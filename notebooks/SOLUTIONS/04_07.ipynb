{
 "cells": [
  {
   "cell_type": "markdown",
   "id": "162596a7",
   "metadata": {},
   "source": [
    "# 04_07: SOLUTION - Evaluating your GraphRAG Pipeline"
   ]
  },
  {
   "cell_type": "code",
   "execution_count": 1,
   "id": "e1dcadb2",
   "metadata": {},
   "outputs": [],
   "source": [
    "import os\n",
    "from dotenv import load_dotenv\n",
    "\n",
    "from langchain.evaluation.qa.eval_chain import QAEvalChain\n",
    "from langchain_neo4j import GraphCypherQAChain, Neo4jGraph\n",
    "from langchain_openai import ChatOpenAI\n",
    "from langchain.prompts import PromptTemplate"
   ]
  },
  {
   "cell_type": "code",
   "execution_count": 2,
   "id": "25b1fe8e",
   "metadata": {},
   "outputs": [],
   "source": [
    "load_dotenv(dotenv_path='../.env')\n",
    "\n",
    "URI = os.getenv(\"NEO4J_URI\")\n",
    "USER = os.getenv(\"NEO4J_USER\")\n",
    "PWD = os.getenv(\"NEO4J_PWD\")\n",
    "OPENAI_API_KEY = os.getenv(\"OPENAI_API_KEY\")"
   ]
  },
  {
   "cell_type": "code",
   "execution_count": 12,
   "id": "8eeb4be8",
   "metadata": {},
   "outputs": [],
   "source": [
    "enhanced_graph = Neo4jGraph(url=URI, username=USER, password=PWD, enhanced_schema=True)\n",
    "llm = ChatOpenAI(openai_api_key=OPENAI_API_KEY, model=\"gpt-4o\", temperature=0)\n",
    "eval_chain = QAEvalChain.from_llm(llm)"
   ]
  },
  {
   "cell_type": "code",
   "execution_count": 13,
   "id": "3741cf4f",
   "metadata": {},
   "outputs": [],
   "source": [
    "examples = [\n",
    "    {\"query\": \"What sports is the International Ski And Snowboard Federation responsible for?\",\n",
    "     \"answer\": \"Alpine Skiing, Freestyle Skiing, Snowboarding, Nordic Combined, Ski Jumping, Cross-Country Skiing\"},\n",
    "    {\"query\": \"In what place was Telemark Skiing invented?\", \n",
    "     \"answer\": \"Telemark Region\"},\n",
    "    {\"query\": \"Who do athletes get help from?\",\n",
    "     \"answer\": \"Coaches, Peer Mentors, and Sports Psychologists\"},\n",
    "]\n",
    "\n"
   ]
  },
  {
   "cell_type": "code",
   "execution_count": null,
   "id": "06d4fbf0",
   "metadata": {},
   "outputs": [],
   "source": [
    "graph_chain = GraphCypherQAChain.from_llm(\n",
    "    graph=enhanced_graph,\n",
    "    llm=llm,\n",
    "    verbose=True,\n",
    "    allow_dangerous_requests=True,\n",
    ")"
   ]
  },
  {
   "cell_type": "code",
   "execution_count": 5,
   "id": "efdb9557",
   "metadata": {},
   "outputs": [],
   "source": [
    "def evaluate_graph_rag(graph_chain, examples):\n",
    "\n",
    "    # Generate predictions by querying the graph\n",
    "    predictions = []\n",
    "    for ex in examples:\n",
    "        graph_response = graph_chain.invoke({\"query\": ex[\"query\"]})\n",
    "        predictions.append({\"result\": graph_response[\"result\"].strip()})\n",
    "\n",
    "    # Run evaluation\n",
    "    eval_chain = QAEvalChain.from_llm(llm)\n",
    "    results = eval_chain.evaluate(examples, predictions)\n",
    "\n",
    "    # Print output\n",
    "    correct = 0\n",
    "    for i, res in enumerate(results):\n",
    "        print(f\"Query: {examples[i]['query']}\")\n",
    "        print(f\"Prediction from graph: {predictions[i]['result']}\")\n",
    "        print(f\"Gold answer: {examples[i]['answer']}\")\n",
    "        print(f\"Grade: {res['results']}\")\n",
    "        print(\"---\")\n",
    "        if res[\"results\"] == \"CORRECT\":\n",
    "            correct += 1\n",
    "\n",
    "    accuracy = correct / len(examples)\n",
    "    print(f\"Graph QA Accuracy: {accuracy:.2f}\")"
   ]
  },
  {
   "cell_type": "code",
   "execution_count": null,
   "id": "4aa04b4c",
   "metadata": {},
   "outputs": [],
   "source": [
    "evaluate_graph_rag(graph_chain, examples)"
   ]
  },
  {
   "cell_type": "code",
   "execution_count": 22,
   "id": "d54bc68a",
   "metadata": {},
   "outputs": [],
   "source": [
    "CYPHER_GENERATION_TEMPLATE = \"\"\"\n",
    "You are an expert Neo4j Developer translating user questions into Cypher to\n",
    "answer questions about skiing.\n",
    "Convert the user's question based on the schema.\n",
    "When you are presented with query properties such as id's like \"alpine touring\",\n",
    "be sure to convert the first letter to capital case, such as \"Alpine Touring\"\n",
    "before you run the Cypher query.\n",
    "\n",
    "NEVER USE THE MENTIONS RELATIONSHIP FOR ANY ANSWERS!\n",
    "\n",
    "For example, if I were to ask \"Tell me about telemark skiing,\" you should create\n",
    "a Cypher query that finds all nodes with the id \"Telemark Skiing\" and then find\n",
    "all nodes connected to those nodes and use those to forumulate your answer, like this:\n",
    "\n",
    "MATCH (a {{id: \"Telemark Skiing\"}})-[r]-(b)\n",
    "RETURN a, r, b\n",
    "\n",
    "You MUST use the question to infer the node label.\n",
    "\"What sports is the International Ski and Snowboard Federation responsible for?\"\n",
    "I would create a query like:\n",
    "\n",
    "MATCH (a {{id: \"International Ski and Snowboard Federation\"}})-[r:]-(b:Sport)\n",
    "RETURN a, r, b\n",
    "\n",
    "Schema: {schema}\n",
    "Question: {question}\n",
    "\"\"\"\n",
    "\n",
    "cypher_generation_prompt = PromptTemplate(\n",
    "    template=CYPHER_GENERATION_TEMPLATE,\n",
    "    input_variables=[\"schema\", \"question\"],\n",
    ")\n",
    "\n",
    "graph_chain = GraphCypherQAChain.from_llm(\n",
    "    llm,\n",
    "    graph=enhanced_graph,\n",
    "    cypher_prompt=cypher_generation_prompt,\n",
    "    verbose=True,\n",
    "    allow_dangerous_requests=True\n",
    ")"
   ]
  },
  {
   "cell_type": "code",
   "execution_count": 23,
   "id": "02afabc8",
   "metadata": {},
   "outputs": [
    {
     "name": "stdout",
     "output_type": "stream",
     "text": [
      "\n",
      "\n",
      "\u001b[1m> Entering new GraphCypherQAChain chain...\u001b[0m\n"
     ]
    },
    {
     "name": "stderr",
     "output_type": "stream",
     "text": [
      "Received notification from DBMS server: {severity: WARNING} {code: Neo.ClientNotification.Statement.UnknownLabelWarning} {category: UNRECOGNIZED} {title: The provided label is not in the database.} {description: One of the labels in your query is not available in the database, make sure you didn't misspell it or that the label is available when you run this statement in your application (the missing label name is: Sport)} {position: line: 2, column: 69, offset: 75} for query: 'cypher\\nMATCH (a {id: \"International Ski And Snowboard Federation\"})-[r]-(b:Sport)\\nRETURN a, r, b\\n'\n"
     ]
    },
    {
     "name": "stdout",
     "output_type": "stream",
     "text": [
      "Generated Cypher:\n",
      "\u001b[32;1m\u001b[1;3mcypher\n",
      "MATCH (a {id: \"International Ski And Snowboard Federation\"})-[r]-(b:Sport)\n",
      "RETURN a, r, b\n",
      "\u001b[0m\n",
      "Full Context:\n",
      "\u001b[32;1m\u001b[1;3m[]\u001b[0m\n",
      "\n",
      "\u001b[1m> Finished chain.\u001b[0m\n",
      "\n",
      "\n",
      "\u001b[1m> Entering new GraphCypherQAChain chain...\u001b[0m\n",
      "Generated Cypher:\n",
      "\u001b[32;1m\u001b[1;3mcypher\n",
      "MATCH (a:Concept {id: \"Telemark Skiing\"})-[r]-(b:Place)\n",
      "RETURN a, r, b\n",
      "\u001b[0m\n",
      "Full Context:\n",
      "\u001b[32;1m\u001b[1;3m[]\u001b[0m\n",
      "\n",
      "\u001b[1m> Finished chain.\u001b[0m\n",
      "\n",
      "\n",
      "\u001b[1m> Entering new GraphCypherQAChain chain...\u001b[0m\n",
      "Generated Cypher:\n",
      "\u001b[32;1m\u001b[1;3mcypher\n",
      "MATCH (a:Person)-[r:BENEFIT_FROM]->(b:Organization)\n",
      "RETURN a, r, b\n",
      "\u001b[0m\n",
      "Full Context:\n",
      "\u001b[32;1m\u001b[1;3m[{'a': {'id': 'Beginners'}, 'r': ({'id': 'Beginners'}, 'BENEFIT_FROM', {'id': 'Surf Schools'}), 'b': {'id': 'Surf Schools'}}, {'a': {'id': 'Intermediates'}, 'r': ({'id': 'Intermediates'}, 'BENEFIT_FROM', {'id': 'Surf Schools'}), 'b': {'id': 'Surf Schools'}}]\u001b[0m\n",
      "\n",
      "\u001b[1m> Finished chain.\u001b[0m\n",
      "Query: What sports is the International Ski And Snowboard Federation responsible for?\n",
      "Prediction from graph: I don't know the answer.\n",
      "Gold answer: Alpine Skiing, Freestyle Skiing, Snowboarding, Nordic Combined, Ski Jumping, Cross-Country Skiing\n",
      "Grade: INCORRECT\n",
      "---\n",
      "Query: In what place was Telemark Skiing invented?\n",
      "Prediction from graph: I don't know the answer.\n",
      "Gold answer: Telemark Region\n",
      "Grade: INCORRECT\n",
      "---\n",
      "Query: Who do athletes get help from?\n",
      "Prediction from graph: Beginners and Intermediates benefit from Surf Schools.\n",
      "Gold answer: Coaches, Peer Mentors, and Sports Psychologists\n",
      "Grade: INCORRECT\n",
      "---\n",
      "Graph QA Accuracy: 0.00\n"
     ]
    }
   ],
   "source": [
    "evaluate_graph_rag(graph_chain, examples)"
   ]
  },
  {
   "cell_type": "code",
   "execution_count": null,
   "id": "19862fd7",
   "metadata": {},
   "outputs": [],
   "source": [
    "CYPHER_GENERATION_TEMPLATE = \"\"\"\n",
    "\n",
    "You are an expert Neo4j developer. Your job is to generate a Cypher query that \n",
    "will traverse exactly 1–3 hops out from your focus node.\n",
    "\n",
    "Steps:\n",
    "\n",
    "1. Identify the main entity in the question and Capitalize Multi-Word IDs\n",
    "2. Write a variable-length MATCH using the new syntax:\n",
    "   MATCH (a {{id: \"{{entity}}\"}})-[r]-{{1,3}}(b)\n",
    "   RETURN a, r, b;\n",
    "\n",
    "You MUST use {{1,3}} for setting the number of hops instead of [r*0..3].\n",
    "Do NOT use WHERE length(r) >= 1 AND length(r) <= 3 to specify it either.\n",
    "\n",
    "Schema:\n",
    "{schema}\n",
    "\n",
    "Question:\n",
    "{question}\n",
    "\"\"\"\n",
    "\n",
    "cypher_generation_prompt = PromptTemplate(\n",
    "    template=CYPHER_GENERATION_TEMPLATE,\n",
    "    input_variables=[\"schema\", \"question\"],\n",
    ")\n",
    "\n",
    "enhanced_graph_chain = GraphCypherQAChain.from_llm(\n",
    "    graph=enhanced_graph,\n",
    "    llm=llm,\n",
    "    cypher_prompt=cypher_generation_prompt,\n",
    "    verbose=True,\n",
    "    allow_dangerous_requests=True,\n",
    ")"
   ]
  },
  {
   "cell_type": "code",
   "execution_count": null,
   "id": "a5f185a2",
   "metadata": {},
   "outputs": [],
   "source": [
    "examples = [\n",
    "    {\"query\": \"What training method does the International Ski and Snowboard Federation use?\",\n",
    "     \"answer\": \"Grass skiing\"},\n",
    "    {\"query\": \"How does research play a role?\",\n",
    "     \"answer\": \"Research improves competition by looking at Surface Science and Friction Reduction and has implications for Competitive Performance and Recreational Enjoyment\"},\n",
    "    {\"query\": \"What country was the men's overall winner of the 2024–25 Fis Alpine Ski World Cup representing?\",\n",
    "     \"answer\": \"Switzerland\"},\n",
    "]"
   ]
  },
  {
   "cell_type": "code",
   "execution_count": null,
   "id": "640972d8",
   "metadata": {},
   "outputs": [],
   "source": [
    "evaluate_graph_rag(graph_chain, examples)"
   ]
  },
  {
   "cell_type": "code",
   "execution_count": null,
   "id": "951d95ba",
   "metadata": {},
   "outputs": [],
   "source": [
    "CYPHER_GENERATION_TEMPLATE = \"\"\"\n",
    "\n",
    "You are an expert Neo4j developer. Your job is to generate a Cypher query that \n",
    "will traverse exactly 1–3 hops out from your focus node.\n",
    "\n",
    "Steps:\n",
    "\n",
    "1. Identify the main entity in the question and Capitalize Multi-Word IDs\n",
    "2. Write a variable-length MATCH using the new syntax:\n",
    "   MATCH (a {{id: \"{{entity}}\"}})-[r]-{{1,3}}(b)\n",
    "   RETURN a, r, b;\n",
    "\n",
    "You MUST use {{1,3}} for setting the number of hops instead of [r*0..3].\n",
    "Do NOT use WHERE length(r) >= 1 AND length(r) <= 3 to specify it either.\n",
    "\n",
    "Schema:\n",
    "{schema}\n",
    "\n",
    "Question:\n",
    "{question}\n",
    "\"\"\"\n",
    "\n",
    "cypher_generation_prompt = PromptTemplate(\n",
    "    template=CYPHER_GENERATION_TEMPLATE,\n",
    "    input_variables=[\"schema\", \"question\"],\n",
    ")\n",
    "\n",
    "enhanced_graph_chain = GraphCypherQAChain.from_llm(\n",
    "    graph=enhanced_graph,\n",
    "    llm=llm,\n",
    "    cypher_prompt=cypher_generation_prompt,\n",
    "    verbose=True,\n",
    "    allow_dangerous_requests=True,\n",
    ")"
   ]
  },
  {
   "cell_type": "code",
   "execution_count": null,
   "id": "30e57aab",
   "metadata": {},
   "outputs": [],
   "source": [
    "evaluate_graph_rag(enhanced_graph_chain, examples)"
   ]
  },
  {
   "cell_type": "code",
   "execution_count": null,
   "id": "019ed391",
   "metadata": {},
   "outputs": [],
   "source": [
    "ANSWER_SYNTHESIS_TEMPLATE = \"\"\"\n",
    "You have a list of variable‑length paths from Neo4j in the form:\n",
    "\n",
    "(path = [(a)-[:REL1]->(X)-[:REL2]->(b), …])\n",
    "\n",
    "Your job: extract the intermediate node X and the two relationship names REL1 and REL2,\n",
    "then produce one sentence of the form:\n",
    "\n",
    "“The {a.id} {rel1_verb} on {X.id} that {rel2_verb} {b.id}.”\n",
    "\n",
    "Example:\n",
    "\n",
    "Paths:\n",
    "1. (Skiing Community)-[INNOVATE]-(Techniques)-[ENHANCE]-(Safety)\n",
    "\n",
    "Answer:\n",
    "The Skiing Community innovates on Techniques that enhance Safety.\n",
    "\n",
    "Now, given:\n",
    "{paths}\n",
    "\n",
    "Answer:\n",
    "\"\"\"\n",
    "\n",
    "answer_prompt = PromptTemplate(\n",
    "    template=ANSWER_SYNTHESIS_TEMPLATE,\n",
    "    input_variables=[\"paths\"],\n",
    ")\n",
    "\n",
    "full_graph_chain = GraphCypherQAChain.from_llm(\n",
    "    llm=llm,\n",
    "    graph=enhanced_graph,\n",
    "    cypher_prompt=cypher_generation_prompt,\n",
    "    answer_prompt=answer_prompt,      # ← override the summarizer\n",
    "    verbose=True,\n",
    "    allow_dangerous_requests=True,\n",
    ")"
   ]
  },
  {
   "cell_type": "code",
   "execution_count": null,
   "id": "87f47775",
   "metadata": {},
   "outputs": [],
   "source": [
    "evaluate_graph_rag(full_graph_chain, examples)"
   ]
  }
 ],
 "metadata": {
  "kernelspec": {
   "display_name": "Python 3",
   "language": "python",
   "name": "python3"
  },
  "language_info": {
   "codemirror_mode": {
    "name": "ipython",
    "version": 3
   },
   "file_extension": ".py",
   "mimetype": "text/x-python",
   "name": "python",
   "nbconvert_exporter": "python",
   "pygments_lexer": "ipython3",
   "version": "3.12.1"
  }
 },
 "nbformat": 4,
 "nbformat_minor": 5
}
