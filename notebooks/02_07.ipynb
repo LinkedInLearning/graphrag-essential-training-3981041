{
 "cells": [
  {
   "cell_type": "markdown",
   "id": "adf87830-ecf5-4768-a21c-c1746a271d76",
   "metadata": {},
   "source": [
    "# 02_07: Connecting Python to Neo4j"
   ]
  },
  {
   "cell_type": "code",
   "execution_count": 1,
   "id": "fddc641c-6eb1-4369-b58e-37559f4bf9b4",
   "metadata": {},
   "outputs": [
    {
     "name": "stdout",
     "output_type": "stream",
     "text": [
      "Requirement already satisfied: neo4j in /usr/local/python/3.12.1/lib/python3.12/site-packages (5.28.1)\n",
      "Requirement already satisfied: pytz in /home/codespace/.local/lib/python3.12/site-packages (from neo4j) (2024.2)\n",
      "\n",
      "\u001b[1m[\u001b[0m\u001b[34;49mnotice\u001b[0m\u001b[1;39;49m]\u001b[0m\u001b[39;49m A new release of pip is available: \u001b[0m\u001b[31;49m24.3.1\u001b[0m\u001b[39;49m -> \u001b[0m\u001b[32;49m25.0.1\u001b[0m\n",
      "\u001b[1m[\u001b[0m\u001b[34;49mnotice\u001b[0m\u001b[1;39;49m]\u001b[0m\u001b[39;49m To update, run: \u001b[0m\u001b[32;49mpython3 -m pip install --upgrade pip\u001b[0m\n"
     ]
    }
   ],
   "source": [
    "!pip install neo4j"
   ]
  },
  {
   "cell_type": "code",
   "execution_count": null,
   "id": "ca74e5ef-aab3-4572-b182-473312238471",
   "metadata": {},
   "outputs": [],
   "source": []
  }
 ],
 "metadata": {
  "kernelspec": {
   "display_name": "Python 3 (ipykernel)",
   "language": "python",
   "name": "python3"
  },
  "language_info": {
   "codemirror_mode": {
    "name": "ipython",
    "version": 3
   },
   "file_extension": ".py",
   "mimetype": "text/x-python",
   "name": "python",
   "nbconvert_exporter": "python",
   "pygments_lexer": "ipython3",
   "version": "3.12.1"
  }
 },
 "nbformat": 4,
 "nbformat_minor": 5
}
