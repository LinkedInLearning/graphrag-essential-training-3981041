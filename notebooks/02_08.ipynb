{
 "cells": [
  {
   "cell_type": "markdown",
   "metadata": {},
   "source": [
    "# 02_08: Testing Your Setup with Cypher Queries"
   ]
  },
  {
   "cell_type": "code",
   "execution_count": 11,
   "metadata": {},
   "outputs": [],
   "source": [
    "import sys\n",
    "import os\n",
    "from pprint import pprint\n",
    "import pandas as pd"
   ]
  },
  {
   "cell_type": "code",
   "execution_count": 2,
   "metadata": {},
   "outputs": [],
   "source": [
    "project_root = os.path.abspath(os.path.join(os.getcwd(), \"..\"))\n",
    "sys.path.append(os.path.join(project_root, \"utils\"))"
   ]
  },
  {
   "cell_type": "markdown",
   "metadata": {},
   "source": [
    "## A note about this cell\n",
    "\n",
    "In `/notebooks/02_07.ipynb` we showed how to create a helper class to manage the connection to Neo4j.  From here on we will use that helper class located in `/utils.neo4j_conn.py`."
   ]
  },
  {
   "cell_type": "code",
   "execution_count": 14,
   "metadata": {},
   "outputs": [],
   "source": [
    "from neo4j_conn import Neo4jConnection\n",
    "\n",
    "URI = \"...\"\n",
    "USER = \"...\"\n",
    "PWD = \"...\"\n",
    "AUTH = (USER, PWD)"
   ]
  },
  {
   "cell_type": "code",
   "execution_count": null,
   "metadata": {},
   "outputs": [],
   "source": [
    "neo_conn = Neo4jConnection(uri=URI, user=USER, pwd=PWD)"
   ]
  },
  {
   "cell_type": "code",
   "execution_count": 6,
   "metadata": {},
   "outputs": [
    {
     "name": "stdout",
     "output_type": "stream",
     "text": [
      "[<Record a=<Node element_id='4:365c6d96-c430-481b-844d-f152aaaf564a:1095' labels=frozenset({'Employee'}) properties={'country': 'USA', 'lastName': 'Davolio', 'hireDate': '1992-05-01 00:00:00.000', 'extension': '5467', 'address': '507 - 20th Ave. E. Apt. 2A', 'notes': 'Education includes a BA in psychology from Colorado State University in 1970.  She also completed \"The Art of the Cold Call.\"  Nancy is a member of Toastmasters International.', 'city': 'Seattle', 'photoPath': 'http://accweb/emmployees/davolio.bmp', 'postalCode': '98122', 'homePhone': '(206) 555-9857', 'employeeID': '1', 'title': 'Sales Representative', 'titleOfCourtesy': 'Ms.', 'birthDate': '1948-12-08 00:00:00.000', 'firstName': 'Nancy', 'region': 'WA'}> r=<Relationship element_id='5:365c6d96-c430-481b-844d-f152aaaf564a:1152928101676614727' nodes=(<Node element_id='4:365c6d96-c430-481b-844d-f152aaaf564a:1095' labels=frozenset({'Employee'}) properties={'country': 'USA', 'lastName': 'Davolio', 'hireDate': '1992-05-01 00:00:00.000', 'extension': '5467', 'address': '507 - 20th Ave. E. Apt. 2A', 'notes': 'Education includes a BA in psychology from Colorado State University in 1970.  She also completed \"The Art of the Cold Call.\"  Nancy is a member of Toastmasters International.', 'city': 'Seattle', 'photoPath': 'http://accweb/emmployees/davolio.bmp', 'postalCode': '98122', 'homePhone': '(206) 555-9857', 'employeeID': '1', 'title': 'Sales Representative', 'titleOfCourtesy': 'Ms.', 'birthDate': '1948-12-08 00:00:00.000', 'firstName': 'Nancy', 'region': 'WA'}>, <Node element_id='4:365c6d96-c430-481b-844d-f152aaaf564a:1096' labels=frozenset({'Employee'}) properties={'country': 'USA', 'lastName': 'Fuller', 'hireDate': '1992-08-14 00:00:00.000', 'extension': '3457', 'address': '908 W. Capital Way', 'notes': 'Andrew received his BTS commercial in 1974 and a Ph.D. in international marketing from the University of Dallas in 1981.  He is fluent in French and Italian and reads German.  He joined the company as a sales representative, was promoted to sales manager i', 'city': 'Tacoma', 'photoPath': 'http://accweb/emmployees/fuller.bmp', 'postalCode': '98401', 'homePhone': '(206) 555-9482', 'employeeID': '2', 'title': 'Vice President, Sales', 'titleOfCourtesy': 'Dr.', 'birthDate': '1952-02-19 00:00:00.000', 'firstName': 'Andrew', 'region': 'WA'}>) type='REPORTS_TO' properties={}> b=<Node element_id='4:365c6d96-c430-481b-844d-f152aaaf564a:1096' labels=frozenset({'Employee'}) properties={'country': 'USA', 'lastName': 'Fuller', 'hireDate': '1992-08-14 00:00:00.000', 'extension': '3457', 'address': '908 W. Capital Way', 'notes': 'Andrew received his BTS commercial in 1974 and a Ph.D. in international marketing from the University of Dallas in 1981.  He is fluent in French and Italian and reads German.  He joined the company as a sales representative, was promoted to sales manager i', 'city': 'Tacoma', 'photoPath': 'http://accweb/emmployees/fuller.bmp', 'postalCode': '98401', 'homePhone': '(206) 555-9482', 'employeeID': '2', 'title': 'Vice President, Sales', 'titleOfCourtesy': 'Dr.', 'birthDate': '1952-02-19 00:00:00.000', 'firstName': 'Andrew', 'region': 'WA'}>>, <Record a=<Node element_id='4:365c6d96-c430-481b-844d-f152aaaf564a:1096' labels=frozenset({'Employee'}) properties={'country': 'USA', 'lastName': 'Fuller', 'hireDate': '1992-08-14 00:00:00.000', 'extension': '3457', 'address': '908 W. Capital Way', 'notes': 'Andrew received his BTS commercial in 1974 and a Ph.D. in international marketing from the University of Dallas in 1981.  He is fluent in French and Italian and reads German.  He joined the company as a sales representative, was promoted to sales manager i', 'city': 'Tacoma', 'photoPath': 'http://accweb/emmployees/fuller.bmp', 'postalCode': '98401', 'homePhone': '(206) 555-9482', 'employeeID': '2', 'title': 'Vice President, Sales', 'titleOfCourtesy': 'Dr.', 'birthDate': '1952-02-19 00:00:00.000', 'firstName': 'Andrew', 'region': 'WA'}> r=<Relationship element_id='5:365c6d96-c430-481b-844d-f152aaaf564a:1152928101676614727' nodes=(<Node element_id='4:365c6d96-c430-481b-844d-f152aaaf564a:1095' labels=frozenset({'Employee'}) properties={'country': 'USA', 'lastName': 'Davolio', 'hireDate': '1992-05-01 00:00:00.000', 'extension': '5467', 'address': '507 - 20th Ave. E. Apt. 2A', 'notes': 'Education includes a BA in psychology from Colorado State University in 1970.  She also completed \"The Art of the Cold Call.\"  Nancy is a member of Toastmasters International.', 'city': 'Seattle', 'photoPath': 'http://accweb/emmployees/davolio.bmp', 'postalCode': '98122', 'homePhone': '(206) 555-9857', 'employeeID': '1', 'title': 'Sales Representative', 'titleOfCourtesy': 'Ms.', 'birthDate': '1948-12-08 00:00:00.000', 'firstName': 'Nancy', 'region': 'WA'}>, <Node element_id='4:365c6d96-c430-481b-844d-f152aaaf564a:1096' labels=frozenset({'Employee'}) properties={'country': 'USA', 'lastName': 'Fuller', 'hireDate': '1992-08-14 00:00:00.000', 'extension': '3457', 'address': '908 W. Capital Way', 'notes': 'Andrew received his BTS commercial in 1974 and a Ph.D. in international marketing from the University of Dallas in 1981.  He is fluent in French and Italian and reads German.  He joined the company as a sales representative, was promoted to sales manager i', 'city': 'Tacoma', 'photoPath': 'http://accweb/emmployees/fuller.bmp', 'postalCode': '98401', 'homePhone': '(206) 555-9482', 'employeeID': '2', 'title': 'Vice President, Sales', 'titleOfCourtesy': 'Dr.', 'birthDate': '1952-02-19 00:00:00.000', 'firstName': 'Andrew', 'region': 'WA'}>) type='REPORTS_TO' properties={}> b=<Node element_id='4:365c6d96-c430-481b-844d-f152aaaf564a:1095' labels=frozenset({'Employee'}) properties={'country': 'USA', 'lastName': 'Davolio', 'hireDate': '1992-05-01 00:00:00.000', 'extension': '5467', 'address': '507 - 20th Ave. E. Apt. 2A', 'notes': 'Education includes a BA in psychology from Colorado State University in 1970.  She also completed \"The Art of the Cold Call.\"  Nancy is a member of Toastmasters International.', 'city': 'Seattle', 'photoPath': 'http://accweb/emmployees/davolio.bmp', 'postalCode': '98122', 'homePhone': '(206) 555-9857', 'employeeID': '1', 'title': 'Sales Representative', 'titleOfCourtesy': 'Ms.', 'birthDate': '1948-12-08 00:00:00.000', 'firstName': 'Nancy', 'region': 'WA'}>>, <Record a=<Node element_id='4:365c6d96-c430-481b-844d-f152aaaf564a:1096' labels=frozenset({'Employee'}) properties={'country': 'USA', 'lastName': 'Fuller', 'hireDate': '1992-08-14 00:00:00.000', 'extension': '3457', 'address': '908 W. Capital Way', 'notes': 'Andrew received his BTS commercial in 1974 and a Ph.D. in international marketing from the University of Dallas in 1981.  He is fluent in French and Italian and reads German.  He joined the company as a sales representative, was promoted to sales manager i', 'city': 'Tacoma', 'photoPath': 'http://accweb/emmployees/fuller.bmp', 'postalCode': '98401', 'homePhone': '(206) 555-9482', 'employeeID': '2', 'title': 'Vice President, Sales', 'titleOfCourtesy': 'Dr.', 'birthDate': '1952-02-19 00:00:00.000', 'firstName': 'Andrew', 'region': 'WA'}> r=<Relationship element_id='5:365c6d96-c430-481b-844d-f152aaaf564a:1152928101676614729' nodes=(<Node element_id='4:365c6d96-c430-481b-844d-f152aaaf564a:1097' labels=frozenset({'Employee'}) properties={'country': 'USA', 'lastName': 'Leverling', 'hireDate': '1992-04-01 00:00:00.000', 'extension': '3355', 'address': '722 Moss Bay Blvd.', 'notes': 'Janet has a BS degree in chemistry from Boston College (1984).  She has also completed a certificate program in food retailing management.  Janet was hired as a sales associate in 1991 and promoted to sales representative in February 1992.', 'city': 'Kirkland', 'photoPath': 'http://accweb/emmployees/leverling.bmp', 'postalCode': '98033', 'homePhone': '(206) 555-3412', 'employeeID': '3', 'title': 'Sales Representative', 'titleOfCourtesy': 'Ms.', 'birthDate': '1963-08-30 00:00:00.000', 'firstName': 'Janet', 'region': 'WA'}>, <Node element_id='4:365c6d96-c430-481b-844d-f152aaaf564a:1096' labels=frozenset({'Employee'}) properties={'country': 'USA', 'lastName': 'Fuller', 'hireDate': '1992-08-14 00:00:00.000', 'extension': '3457', 'address': '908 W. Capital Way', 'notes': 'Andrew received his BTS commercial in 1974 and a Ph.D. in international marketing from the University of Dallas in 1981.  He is fluent in French and Italian and reads German.  He joined the company as a sales representative, was promoted to sales manager i', 'city': 'Tacoma', 'photoPath': 'http://accweb/emmployees/fuller.bmp', 'postalCode': '98401', 'homePhone': '(206) 555-9482', 'employeeID': '2', 'title': 'Vice President, Sales', 'titleOfCourtesy': 'Dr.', 'birthDate': '1952-02-19 00:00:00.000', 'firstName': 'Andrew', 'region': 'WA'}>) type='REPORTS_TO' properties={}> b=<Node element_id='4:365c6d96-c430-481b-844d-f152aaaf564a:1097' labels=frozenset({'Employee'}) properties={'country': 'USA', 'lastName': 'Leverling', 'hireDate': '1992-04-01 00:00:00.000', 'extension': '3355', 'address': '722 Moss Bay Blvd.', 'notes': 'Janet has a BS degree in chemistry from Boston College (1984).  She has also completed a certificate program in food retailing management.  Janet was hired as a sales associate in 1991 and promoted to sales representative in February 1992.', 'city': 'Kirkland', 'photoPath': 'http://accweb/emmployees/leverling.bmp', 'postalCode': '98033', 'homePhone': '(206) 555-3412', 'employeeID': '3', 'title': 'Sales Representative', 'titleOfCourtesy': 'Ms.', 'birthDate': '1963-08-30 00:00:00.000', 'firstName': 'Janet', 'region': 'WA'}>>, <Record a=<Node element_id='4:365c6d96-c430-481b-844d-f152aaaf564a:1096' labels=frozenset({'Employee'}) properties={'country': 'USA', 'lastName': 'Fuller', 'hireDate': '1992-08-14 00:00:00.000', 'extension': '3457', 'address': '908 W. Capital Way', 'notes': 'Andrew received his BTS commercial in 1974 and a Ph.D. in international marketing from the University of Dallas in 1981.  He is fluent in French and Italian and reads German.  He joined the company as a sales representative, was promoted to sales manager i', 'city': 'Tacoma', 'photoPath': 'http://accweb/emmployees/fuller.bmp', 'postalCode': '98401', 'homePhone': '(206) 555-9482', 'employeeID': '2', 'title': 'Vice President, Sales', 'titleOfCourtesy': 'Dr.', 'birthDate': '1952-02-19 00:00:00.000', 'firstName': 'Andrew', 'region': 'WA'}> r=<Relationship element_id='5:365c6d96-c430-481b-844d-f152aaaf564a:1152928101676614730' nodes=(<Node element_id='4:365c6d96-c430-481b-844d-f152aaaf564a:1098' labels=frozenset({'Employee'}) properties={'country': 'USA', 'lastName': 'Peacock', 'hireDate': '1993-05-03 00:00:00.000', 'extension': '5176', 'address': '4110 Old Redmond Rd.', 'notes': 'Margaret holds a BA in English literature from Concordia College (1958) and an MA from the American Institute of Culinary Arts (1966).  She was assigned to the London office temporarily from July through November 1992.', 'city': 'Redmond', 'photoPath': 'http://accweb/emmployees/peacock.bmp', 'postalCode': '98052', 'homePhone': '(206) 555-8122', 'employeeID': '4', 'title': 'Sales Representative', 'titleOfCourtesy': 'Mrs.', 'birthDate': '1937-09-19 00:00:00.000', 'firstName': 'Margaret', 'region': 'WA'}>, <Node element_id='4:365c6d96-c430-481b-844d-f152aaaf564a:1096' labels=frozenset({'Employee'}) properties={'country': 'USA', 'lastName': 'Fuller', 'hireDate': '1992-08-14 00:00:00.000', 'extension': '3457', 'address': '908 W. Capital Way', 'notes': 'Andrew received his BTS commercial in 1974 and a Ph.D. in international marketing from the University of Dallas in 1981.  He is fluent in French and Italian and reads German.  He joined the company as a sales representative, was promoted to sales manager i', 'city': 'Tacoma', 'photoPath': 'http://accweb/emmployees/fuller.bmp', 'postalCode': '98401', 'homePhone': '(206) 555-9482', 'employeeID': '2', 'title': 'Vice President, Sales', 'titleOfCourtesy': 'Dr.', 'birthDate': '1952-02-19 00:00:00.000', 'firstName': 'Andrew', 'region': 'WA'}>) type='REPORTS_TO' properties={}> b=<Node element_id='4:365c6d96-c430-481b-844d-f152aaaf564a:1098' labels=frozenset({'Employee'}) properties={'country': 'USA', 'lastName': 'Peacock', 'hireDate': '1993-05-03 00:00:00.000', 'extension': '5176', 'address': '4110 Old Redmond Rd.', 'notes': 'Margaret holds a BA in English literature from Concordia College (1958) and an MA from the American Institute of Culinary Arts (1966).  She was assigned to the London office temporarily from July through November 1992.', 'city': 'Redmond', 'photoPath': 'http://accweb/emmployees/peacock.bmp', 'postalCode': '98052', 'homePhone': '(206) 555-8122', 'employeeID': '4', 'title': 'Sales Representative', 'titleOfCourtesy': 'Mrs.', 'birthDate': '1937-09-19 00:00:00.000', 'firstName': 'Margaret', 'region': 'WA'}>>, <Record a=<Node element_id='4:365c6d96-c430-481b-844d-f152aaaf564a:1096' labels=frozenset({'Employee'}) properties={'country': 'USA', 'lastName': 'Fuller', 'hireDate': '1992-08-14 00:00:00.000', 'extension': '3457', 'address': '908 W. Capital Way', 'notes': 'Andrew received his BTS commercial in 1974 and a Ph.D. in international marketing from the University of Dallas in 1981.  He is fluent in French and Italian and reads German.  He joined the company as a sales representative, was promoted to sales manager i', 'city': 'Tacoma', 'photoPath': 'http://accweb/emmployees/fuller.bmp', 'postalCode': '98401', 'homePhone': '(206) 555-9482', 'employeeID': '2', 'title': 'Vice President, Sales', 'titleOfCourtesy': 'Dr.', 'birthDate': '1952-02-19 00:00:00.000', 'firstName': 'Andrew', 'region': 'WA'}> r=<Relationship element_id='5:365c6d96-c430-481b-844d-f152aaaf564a:1152928101676614731' nodes=(<Node element_id='4:365c6d96-c430-481b-844d-f152aaaf564a:1099' labels=frozenset({'Employee'}) properties={'country': 'UK', 'lastName': 'Buchanan', 'hireDate': '1993-10-17 00:00:00.000', 'extension': '3453', 'address': '14 Garrett Hill', 'notes': 'Steven Buchanan graduated from St. Andrews University, Scotland, with a BSC degree in 1976.  Upon joining the company as a sales representative in 1992, he spent 6 months in an orientation program at the Seattle office and then returned to his permanent po', 'city': 'London', 'photoPath': 'http://accweb/emmployees/buchanan.bmp', 'postalCode': 'SW1 8JR', 'homePhone': '(71) 555-4848', 'employeeID': '5', 'title': 'Sales Manager', 'titleOfCourtesy': 'Mr.', 'birthDate': '1955-03-04 00:00:00.000', 'firstName': 'Steven', 'region': 'NULL'}>, <Node element_id='4:365c6d96-c430-481b-844d-f152aaaf564a:1096' labels=frozenset({'Employee'}) properties={'country': 'USA', 'lastName': 'Fuller', 'hireDate': '1992-08-14 00:00:00.000', 'extension': '3457', 'address': '908 W. Capital Way', 'notes': 'Andrew received his BTS commercial in 1974 and a Ph.D. in international marketing from the University of Dallas in 1981.  He is fluent in French and Italian and reads German.  He joined the company as a sales representative, was promoted to sales manager i', 'city': 'Tacoma', 'photoPath': 'http://accweb/emmployees/fuller.bmp', 'postalCode': '98401', 'homePhone': '(206) 555-9482', 'employeeID': '2', 'title': 'Vice President, Sales', 'titleOfCourtesy': 'Dr.', 'birthDate': '1952-02-19 00:00:00.000', 'firstName': 'Andrew', 'region': 'WA'}>) type='REPORTS_TO' properties={}> b=<Node element_id='4:365c6d96-c430-481b-844d-f152aaaf564a:1099' labels=frozenset({'Employee'}) properties={'country': 'UK', 'lastName': 'Buchanan', 'hireDate': '1993-10-17 00:00:00.000', 'extension': '3453', 'address': '14 Garrett Hill', 'notes': 'Steven Buchanan graduated from St. Andrews University, Scotland, with a BSC degree in 1976.  Upon joining the company as a sales representative in 1992, he spent 6 months in an orientation program at the Seattle office and then returned to his permanent po', 'city': 'London', 'photoPath': 'http://accweb/emmployees/buchanan.bmp', 'postalCode': 'SW1 8JR', 'homePhone': '(71) 555-4848', 'employeeID': '5', 'title': 'Sales Manager', 'titleOfCourtesy': 'Mr.', 'birthDate': '1955-03-04 00:00:00.000', 'firstName': 'Steven', 'region': 'NULL'}>>, <Record a=<Node element_id='4:365c6d96-c430-481b-844d-f152aaaf564a:1096' labels=frozenset({'Employee'}) properties={'country': 'USA', 'lastName': 'Fuller', 'hireDate': '1992-08-14 00:00:00.000', 'extension': '3457', 'address': '908 W. Capital Way', 'notes': 'Andrew received his BTS commercial in 1974 and a Ph.D. in international marketing from the University of Dallas in 1981.  He is fluent in French and Italian and reads German.  He joined the company as a sales representative, was promoted to sales manager i', 'city': 'Tacoma', 'photoPath': 'http://accweb/emmployees/fuller.bmp', 'postalCode': '98401', 'homePhone': '(206) 555-9482', 'employeeID': '2', 'title': 'Vice President, Sales', 'titleOfCourtesy': 'Dr.', 'birthDate': '1952-02-19 00:00:00.000', 'firstName': 'Andrew', 'region': 'WA'}> r=<Relationship element_id='5:365c6d96-c430-481b-844d-f152aaaf564a:1152928101676614734' nodes=(<Node element_id='4:365c6d96-c430-481b-844d-f152aaaf564a:1102' labels=frozenset({'Employee'}) properties={'country': 'USA', 'lastName': 'Callahan', 'hireDate': '1994-03-05 00:00:00.000', 'extension': '2344', 'address': '4726 - 11th Ave. N.E.', 'notes': 'Laura received a BA in psychology from the University of Washington.  She has also completed a course in business French.  She reads and writes French.', 'city': 'Seattle', 'photoPath': 'http://accweb/emmployees/davolio.bmp', 'postalCode': '98105', 'homePhone': '(206) 555-1189', 'employeeID': '8', 'title': 'Inside Sales Coordinator', 'titleOfCourtesy': 'Ms.', 'birthDate': '1958-01-09 00:00:00.000', 'firstName': 'Laura', 'region': 'WA'}>, <Node element_id='4:365c6d96-c430-481b-844d-f152aaaf564a:1096' labels=frozenset({'Employee'}) properties={'country': 'USA', 'lastName': 'Fuller', 'hireDate': '1992-08-14 00:00:00.000', 'extension': '3457', 'address': '908 W. Capital Way', 'notes': 'Andrew received his BTS commercial in 1974 and a Ph.D. in international marketing from the University of Dallas in 1981.  He is fluent in French and Italian and reads German.  He joined the company as a sales representative, was promoted to sales manager i', 'city': 'Tacoma', 'photoPath': 'http://accweb/emmployees/fuller.bmp', 'postalCode': '98401', 'homePhone': '(206) 555-9482', 'employeeID': '2', 'title': 'Vice President, Sales', 'titleOfCourtesy': 'Dr.', 'birthDate': '1952-02-19 00:00:00.000', 'firstName': 'Andrew', 'region': 'WA'}>) type='REPORTS_TO' properties={}> b=<Node element_id='4:365c6d96-c430-481b-844d-f152aaaf564a:1102' labels=frozenset({'Employee'}) properties={'country': 'USA', 'lastName': 'Callahan', 'hireDate': '1994-03-05 00:00:00.000', 'extension': '2344', 'address': '4726 - 11th Ave. N.E.', 'notes': 'Laura received a BA in psychology from the University of Washington.  She has also completed a course in business French.  She reads and writes French.', 'city': 'Seattle', 'photoPath': 'http://accweb/emmployees/davolio.bmp', 'postalCode': '98105', 'homePhone': '(206) 555-1189', 'employeeID': '8', 'title': 'Inside Sales Coordinator', 'titleOfCourtesy': 'Ms.', 'birthDate': '1958-01-09 00:00:00.000', 'firstName': 'Laura', 'region': 'WA'}>>, <Record a=<Node element_id='4:365c6d96-c430-481b-844d-f152aaaf564a:1097' labels=frozenset({'Employee'}) properties={'country': 'USA', 'lastName': 'Leverling', 'hireDate': '1992-04-01 00:00:00.000', 'extension': '3355', 'address': '722 Moss Bay Blvd.', 'notes': 'Janet has a BS degree in chemistry from Boston College (1984).  She has also completed a certificate program in food retailing management.  Janet was hired as a sales associate in 1991 and promoted to sales representative in February 1992.', 'city': 'Kirkland', 'photoPath': 'http://accweb/emmployees/leverling.bmp', 'postalCode': '98033', 'homePhone': '(206) 555-3412', 'employeeID': '3', 'title': 'Sales Representative', 'titleOfCourtesy': 'Ms.', 'birthDate': '1963-08-30 00:00:00.000', 'firstName': 'Janet', 'region': 'WA'}> r=<Relationship element_id='5:365c6d96-c430-481b-844d-f152aaaf564a:1152928101676614729' nodes=(<Node element_id='4:365c6d96-c430-481b-844d-f152aaaf564a:1097' labels=frozenset({'Employee'}) properties={'country': 'USA', 'lastName': 'Leverling', 'hireDate': '1992-04-01 00:00:00.000', 'extension': '3355', 'address': '722 Moss Bay Blvd.', 'notes': 'Janet has a BS degree in chemistry from Boston College (1984).  She has also completed a certificate program in food retailing management.  Janet was hired as a sales associate in 1991 and promoted to sales representative in February 1992.', 'city': 'Kirkland', 'photoPath': 'http://accweb/emmployees/leverling.bmp', 'postalCode': '98033', 'homePhone': '(206) 555-3412', 'employeeID': '3', 'title': 'Sales Representative', 'titleOfCourtesy': 'Ms.', 'birthDate': '1963-08-30 00:00:00.000', 'firstName': 'Janet', 'region': 'WA'}>, <Node element_id='4:365c6d96-c430-481b-844d-f152aaaf564a:1096' labels=frozenset({'Employee'}) properties={'country': 'USA', 'lastName': 'Fuller', 'hireDate': '1992-08-14 00:00:00.000', 'extension': '3457', 'address': '908 W. Capital Way', 'notes': 'Andrew received his BTS commercial in 1974 and a Ph.D. in international marketing from the University of Dallas in 1981.  He is fluent in French and Italian and reads German.  He joined the company as a sales representative, was promoted to sales manager i', 'city': 'Tacoma', 'photoPath': 'http://accweb/emmployees/fuller.bmp', 'postalCode': '98401', 'homePhone': '(206) 555-9482', 'employeeID': '2', 'title': 'Vice President, Sales', 'titleOfCourtesy': 'Dr.', 'birthDate': '1952-02-19 00:00:00.000', 'firstName': 'Andrew', 'region': 'WA'}>) type='REPORTS_TO' properties={}> b=<Node element_id='4:365c6d96-c430-481b-844d-f152aaaf564a:1096' labels=frozenset({'Employee'}) properties={'country': 'USA', 'lastName': 'Fuller', 'hireDate': '1992-08-14 00:00:00.000', 'extension': '3457', 'address': '908 W. Capital Way', 'notes': 'Andrew received his BTS commercial in 1974 and a Ph.D. in international marketing from the University of Dallas in 1981.  He is fluent in French and Italian and reads German.  He joined the company as a sales representative, was promoted to sales manager i', 'city': 'Tacoma', 'photoPath': 'http://accweb/emmployees/fuller.bmp', 'postalCode': '98401', 'homePhone': '(206) 555-9482', 'employeeID': '2', 'title': 'Vice President, Sales', 'titleOfCourtesy': 'Dr.', 'birthDate': '1952-02-19 00:00:00.000', 'firstName': 'Andrew', 'region': 'WA'}>>, <Record a=<Node element_id='4:365c6d96-c430-481b-844d-f152aaaf564a:1098' labels=frozenset({'Employee'}) properties={'country': 'USA', 'lastName': 'Peacock', 'hireDate': '1993-05-03 00:00:00.000', 'extension': '5176', 'address': '4110 Old Redmond Rd.', 'notes': 'Margaret holds a BA in English literature from Concordia College (1958) and an MA from the American Institute of Culinary Arts (1966).  She was assigned to the London office temporarily from July through November 1992.', 'city': 'Redmond', 'photoPath': 'http://accweb/emmployees/peacock.bmp', 'postalCode': '98052', 'homePhone': '(206) 555-8122', 'employeeID': '4', 'title': 'Sales Representative', 'titleOfCourtesy': 'Mrs.', 'birthDate': '1937-09-19 00:00:00.000', 'firstName': 'Margaret', 'region': 'WA'}> r=<Relationship element_id='5:365c6d96-c430-481b-844d-f152aaaf564a:1152928101676614730' nodes=(<Node element_id='4:365c6d96-c430-481b-844d-f152aaaf564a:1098' labels=frozenset({'Employee'}) properties={'country': 'USA', 'lastName': 'Peacock', 'hireDate': '1993-05-03 00:00:00.000', 'extension': '5176', 'address': '4110 Old Redmond Rd.', 'notes': 'Margaret holds a BA in English literature from Concordia College (1958) and an MA from the American Institute of Culinary Arts (1966).  She was assigned to the London office temporarily from July through November 1992.', 'city': 'Redmond', 'photoPath': 'http://accweb/emmployees/peacock.bmp', 'postalCode': '98052', 'homePhone': '(206) 555-8122', 'employeeID': '4', 'title': 'Sales Representative', 'titleOfCourtesy': 'Mrs.', 'birthDate': '1937-09-19 00:00:00.000', 'firstName': 'Margaret', 'region': 'WA'}>, <Node element_id='4:365c6d96-c430-481b-844d-f152aaaf564a:1096' labels=frozenset({'Employee'}) properties={'country': 'USA', 'lastName': 'Fuller', 'hireDate': '1992-08-14 00:00:00.000', 'extension': '3457', 'address': '908 W. Capital Way', 'notes': 'Andrew received his BTS commercial in 1974 and a Ph.D. in international marketing from the University of Dallas in 1981.  He is fluent in French and Italian and reads German.  He joined the company as a sales representative, was promoted to sales manager i', 'city': 'Tacoma', 'photoPath': 'http://accweb/emmployees/fuller.bmp', 'postalCode': '98401', 'homePhone': '(206) 555-9482', 'employeeID': '2', 'title': 'Vice President, Sales', 'titleOfCourtesy': 'Dr.', 'birthDate': '1952-02-19 00:00:00.000', 'firstName': 'Andrew', 'region': 'WA'}>) type='REPORTS_TO' properties={}> b=<Node element_id='4:365c6d96-c430-481b-844d-f152aaaf564a:1096' labels=frozenset({'Employee'}) properties={'country': 'USA', 'lastName': 'Fuller', 'hireDate': '1992-08-14 00:00:00.000', 'extension': '3457', 'address': '908 W. Capital Way', 'notes': 'Andrew received his BTS commercial in 1974 and a Ph.D. in international marketing from the University of Dallas in 1981.  He is fluent in French and Italian and reads German.  He joined the company as a sales representative, was promoted to sales manager i', 'city': 'Tacoma', 'photoPath': 'http://accweb/emmployees/fuller.bmp', 'postalCode': '98401', 'homePhone': '(206) 555-9482', 'employeeID': '2', 'title': 'Vice President, Sales', 'titleOfCourtesy': 'Dr.', 'birthDate': '1952-02-19 00:00:00.000', 'firstName': 'Andrew', 'region': 'WA'}>>, <Record a=<Node element_id='4:365c6d96-c430-481b-844d-f152aaaf564a:1099' labels=frozenset({'Employee'}) properties={'country': 'UK', 'lastName': 'Buchanan', 'hireDate': '1993-10-17 00:00:00.000', 'extension': '3453', 'address': '14 Garrett Hill', 'notes': 'Steven Buchanan graduated from St. Andrews University, Scotland, with a BSC degree in 1976.  Upon joining the company as a sales representative in 1992, he spent 6 months in an orientation program at the Seattle office and then returned to his permanent po', 'city': 'London', 'photoPath': 'http://accweb/emmployees/buchanan.bmp', 'postalCode': 'SW1 8JR', 'homePhone': '(71) 555-4848', 'employeeID': '5', 'title': 'Sales Manager', 'titleOfCourtesy': 'Mr.', 'birthDate': '1955-03-04 00:00:00.000', 'firstName': 'Steven', 'region': 'NULL'}> r=<Relationship element_id='5:365c6d96-c430-481b-844d-f152aaaf564a:1152928101676614731' nodes=(<Node element_id='4:365c6d96-c430-481b-844d-f152aaaf564a:1099' labels=frozenset({'Employee'}) properties={'country': 'UK', 'lastName': 'Buchanan', 'hireDate': '1993-10-17 00:00:00.000', 'extension': '3453', 'address': '14 Garrett Hill', 'notes': 'Steven Buchanan graduated from St. Andrews University, Scotland, with a BSC degree in 1976.  Upon joining the company as a sales representative in 1992, he spent 6 months in an orientation program at the Seattle office and then returned to his permanent po', 'city': 'London', 'photoPath': 'http://accweb/emmployees/buchanan.bmp', 'postalCode': 'SW1 8JR', 'homePhone': '(71) 555-4848', 'employeeID': '5', 'title': 'Sales Manager', 'titleOfCourtesy': 'Mr.', 'birthDate': '1955-03-04 00:00:00.000', 'firstName': 'Steven', 'region': 'NULL'}>, <Node element_id='4:365c6d96-c430-481b-844d-f152aaaf564a:1096' labels=frozenset({'Employee'}) properties={'country': 'USA', 'lastName': 'Fuller', 'hireDate': '1992-08-14 00:00:00.000', 'extension': '3457', 'address': '908 W. Capital Way', 'notes': 'Andrew received his BTS commercial in 1974 and a Ph.D. in international marketing from the University of Dallas in 1981.  He is fluent in French and Italian and reads German.  He joined the company as a sales representative, was promoted to sales manager i', 'city': 'Tacoma', 'photoPath': 'http://accweb/emmployees/fuller.bmp', 'postalCode': '98401', 'homePhone': '(206) 555-9482', 'employeeID': '2', 'title': 'Vice President, Sales', 'titleOfCourtesy': 'Dr.', 'birthDate': '1952-02-19 00:00:00.000', 'firstName': 'Andrew', 'region': 'WA'}>) type='REPORTS_TO' properties={}> b=<Node element_id='4:365c6d96-c430-481b-844d-f152aaaf564a:1096' labels=frozenset({'Employee'}) properties={'country': 'USA', 'lastName': 'Fuller', 'hireDate': '1992-08-14 00:00:00.000', 'extension': '3457', 'address': '908 W. Capital Way', 'notes': 'Andrew received his BTS commercial in 1974 and a Ph.D. in international marketing from the University of Dallas in 1981.  He is fluent in French and Italian and reads German.  He joined the company as a sales representative, was promoted to sales manager i', 'city': 'Tacoma', 'photoPath': 'http://accweb/emmployees/fuller.bmp', 'postalCode': '98401', 'homePhone': '(206) 555-9482', 'employeeID': '2', 'title': 'Vice President, Sales', 'titleOfCourtesy': 'Dr.', 'birthDate': '1952-02-19 00:00:00.000', 'firstName': 'Andrew', 'region': 'WA'}>>, <Record a=<Node element_id='4:365c6d96-c430-481b-844d-f152aaaf564a:1099' labels=frozenset({'Employee'}) properties={'country': 'UK', 'lastName': 'Buchanan', 'hireDate': '1993-10-17 00:00:00.000', 'extension': '3453', 'address': '14 Garrett Hill', 'notes': 'Steven Buchanan graduated from St. Andrews University, Scotland, with a BSC degree in 1976.  Upon joining the company as a sales representative in 1992, he spent 6 months in an orientation program at the Seattle office and then returned to his permanent po', 'city': 'London', 'photoPath': 'http://accweb/emmployees/buchanan.bmp', 'postalCode': 'SW1 8JR', 'homePhone': '(71) 555-4848', 'employeeID': '5', 'title': 'Sales Manager', 'titleOfCourtesy': 'Mr.', 'birthDate': '1955-03-04 00:00:00.000', 'firstName': 'Steven', 'region': 'NULL'}> r=<Relationship element_id='5:365c6d96-c430-481b-844d-f152aaaf564a:6919787424524534859' nodes=(<Node element_id='4:365c6d96-c430-481b-844d-f152aaaf564a:1100' labels=frozenset({'Employee'}) properties={'country': 'UK', 'lastName': 'Suyama', 'hireDate': '1993-10-17 00:00:00.000', 'extension': '428', 'address': 'Coventry House Miner Rd.', 'notes': 'Michael is a graduate of Sussex University (MA, economics, 1983) and the University of California at Los Angeles (MBA, marketing, 1986).  He has also taken the courses \"Multi-Cultural Selling\" and \"Time Management for the Sales Professional.\"  He is fluent', 'city': 'London', 'photoPath': 'http://accweb/emmployees/davolio.bmp', 'postalCode': 'EC2 7JR', 'homePhone': '(71) 555-7773', 'employeeID': '6', 'title': 'Sales Representative', 'titleOfCourtesy': 'Mr.', 'birthDate': '1963-07-02 00:00:00.000', 'firstName': 'Michael', 'region': 'NULL'}>, <Node element_id='4:365c6d96-c430-481b-844d-f152aaaf564a:1099' labels=frozenset({'Employee'}) properties={'country': 'UK', 'lastName': 'Buchanan', 'hireDate': '1993-10-17 00:00:00.000', 'extension': '3453', 'address': '14 Garrett Hill', 'notes': 'Steven Buchanan graduated from St. Andrews University, Scotland, with a BSC degree in 1976.  Upon joining the company as a sales representative in 1992, he spent 6 months in an orientation program at the Seattle office and then returned to his permanent po', 'city': 'London', 'photoPath': 'http://accweb/emmployees/buchanan.bmp', 'postalCode': 'SW1 8JR', 'homePhone': '(71) 555-4848', 'employeeID': '5', 'title': 'Sales Manager', 'titleOfCourtesy': 'Mr.', 'birthDate': '1955-03-04 00:00:00.000', 'firstName': 'Steven', 'region': 'NULL'}>) type='REPORTS_TO' properties={}> b=<Node element_id='4:365c6d96-c430-481b-844d-f152aaaf564a:1100' labels=frozenset({'Employee'}) properties={'country': 'UK', 'lastName': 'Suyama', 'hireDate': '1993-10-17 00:00:00.000', 'extension': '428', 'address': 'Coventry House Miner Rd.', 'notes': 'Michael is a graduate of Sussex University (MA, economics, 1983) and the University of California at Los Angeles (MBA, marketing, 1986).  He has also taken the courses \"Multi-Cultural Selling\" and \"Time Management for the Sales Professional.\"  He is fluent', 'city': 'London', 'photoPath': 'http://accweb/emmployees/davolio.bmp', 'postalCode': 'EC2 7JR', 'homePhone': '(71) 555-7773', 'employeeID': '6', 'title': 'Sales Representative', 'titleOfCourtesy': 'Mr.', 'birthDate': '1963-07-02 00:00:00.000', 'firstName': 'Michael', 'region': 'NULL'}>>, <Record a=<Node element_id='4:365c6d96-c430-481b-844d-f152aaaf564a:1099' labels=frozenset({'Employee'}) properties={'country': 'UK', 'lastName': 'Buchanan', 'hireDate': '1993-10-17 00:00:00.000', 'extension': '3453', 'address': '14 Garrett Hill', 'notes': 'Steven Buchanan graduated from St. Andrews University, Scotland, with a BSC degree in 1976.  Upon joining the company as a sales representative in 1992, he spent 6 months in an orientation program at the Seattle office and then returned to his permanent po', 'city': 'London', 'photoPath': 'http://accweb/emmployees/buchanan.bmp', 'postalCode': 'SW1 8JR', 'homePhone': '(71) 555-4848', 'employeeID': '5', 'title': 'Sales Manager', 'titleOfCourtesy': 'Mr.', 'birthDate': '1955-03-04 00:00:00.000', 'firstName': 'Steven', 'region': 'NULL'}> r=<Relationship element_id='5:365c6d96-c430-481b-844d-f152aaaf564a:6922039224338220107' nodes=(<Node element_id='4:365c6d96-c430-481b-844d-f152aaaf564a:1101' labels=frozenset({'Employee'}) properties={'country': 'UK', 'lastName': 'King', 'hireDate': '1994-01-02 00:00:00.000', 'extension': '465', 'address': 'Edgeham Hollow Winchester Way', 'notes': 'Robert King served in the Peace Corps and traveled extensively before completing his degree in English at the University of Michigan in 1992, the year he joined the company.  After completing a course entitled \"Selling in Europe,\" he was transferred to the', 'city': 'London', 'photoPath': 'http://accweb/emmployees/davolio.bmp', 'postalCode': 'RG1 9SP', 'homePhone': '(71) 555-5598', 'employeeID': '7', 'title': 'Sales Representative', 'titleOfCourtesy': 'Mr.', 'birthDate': '1960-05-29 00:00:00.000', 'firstName': 'Robert', 'region': 'NULL'}>, <Node element_id='4:365c6d96-c430-481b-844d-f152aaaf564a:1099' labels=frozenset({'Employee'}) properties={'country': 'UK', 'lastName': 'Buchanan', 'hireDate': '1993-10-17 00:00:00.000', 'extension': '3453', 'address': '14 Garrett Hill', 'notes': 'Steven Buchanan graduated from St. Andrews University, Scotland, with a BSC degree in 1976.  Upon joining the company as a sales representative in 1992, he spent 6 months in an orientation program at the Seattle office and then returned to his permanent po', 'city': 'London', 'photoPath': 'http://accweb/emmployees/buchanan.bmp', 'postalCode': 'SW1 8JR', 'homePhone': '(71) 555-4848', 'employeeID': '5', 'title': 'Sales Manager', 'titleOfCourtesy': 'Mr.', 'birthDate': '1955-03-04 00:00:00.000', 'firstName': 'Steven', 'region': 'NULL'}>) type='REPORTS_TO' properties={}> b=<Node element_id='4:365c6d96-c430-481b-844d-f152aaaf564a:1101' labels=frozenset({'Employee'}) properties={'country': 'UK', 'lastName': 'King', 'hireDate': '1994-01-02 00:00:00.000', 'extension': '465', 'address': 'Edgeham Hollow Winchester Way', 'notes': 'Robert King served in the Peace Corps and traveled extensively before completing his degree in English at the University of Michigan in 1992, the year he joined the company.  After completing a course entitled \"Selling in Europe,\" he was transferred to the', 'city': 'London', 'photoPath': 'http://accweb/emmployees/davolio.bmp', 'postalCode': 'RG1 9SP', 'homePhone': '(71) 555-5598', 'employeeID': '7', 'title': 'Sales Representative', 'titleOfCourtesy': 'Mr.', 'birthDate': '1960-05-29 00:00:00.000', 'firstName': 'Robert', 'region': 'NULL'}>>, <Record a=<Node element_id='4:365c6d96-c430-481b-844d-f152aaaf564a:1099' labels=frozenset({'Employee'}) properties={'country': 'UK', 'lastName': 'Buchanan', 'hireDate': '1993-10-17 00:00:00.000', 'extension': '3453', 'address': '14 Garrett Hill', 'notes': 'Steven Buchanan graduated from St. Andrews University, Scotland, with a BSC degree in 1976.  Upon joining the company as a sales representative in 1992, he spent 6 months in an orientation program at the Seattle office and then returned to his permanent po', 'city': 'London', 'photoPath': 'http://accweb/emmployees/buchanan.bmp', 'postalCode': 'SW1 8JR', 'homePhone': '(71) 555-4848', 'employeeID': '5', 'title': 'Sales Manager', 'titleOfCourtesy': 'Mr.', 'birthDate': '1955-03-04 00:00:00.000', 'firstName': 'Steven', 'region': 'NULL'}> r=<Relationship element_id='5:365c6d96-c430-481b-844d-f152aaaf564a:6924291024151905355' nodes=(<Node element_id='4:365c6d96-c430-481b-844d-f152aaaf564a:1103' labels=frozenset({'Employee'}) properties={'country': 'UK', 'lastName': 'Dodsworth', 'hireDate': '1994-11-15 00:00:00.000', 'extension': '452', 'address': '7 Houndstooth Rd.', 'notes': 'Anne has a BA degree in English from St. Lawrence College.  She is fluent in French and German.', 'city': 'London', 'photoPath': 'http://accweb/emmployees/davolio.bmp', 'postalCode': 'WG2 7LT', 'homePhone': '(71) 555-4444', 'employeeID': '9', 'title': 'Sales Representative', 'titleOfCourtesy': 'Ms.', 'birthDate': '1966-01-27 00:00:00.000', 'firstName': 'Anne', 'region': 'NULL'}>, <Node element_id='4:365c6d96-c430-481b-844d-f152aaaf564a:1099' labels=frozenset({'Employee'}) properties={'country': 'UK', 'lastName': 'Buchanan', 'hireDate': '1993-10-17 00:00:00.000', 'extension': '3453', 'address': '14 Garrett Hill', 'notes': 'Steven Buchanan graduated from St. Andrews University, Scotland, with a BSC degree in 1976.  Upon joining the company as a sales representative in 1992, he spent 6 months in an orientation program at the Seattle office and then returned to his permanent po', 'city': 'London', 'photoPath': 'http://accweb/emmployees/buchanan.bmp', 'postalCode': 'SW1 8JR', 'homePhone': '(71) 555-4848', 'employeeID': '5', 'title': 'Sales Manager', 'titleOfCourtesy': 'Mr.', 'birthDate': '1955-03-04 00:00:00.000', 'firstName': 'Steven', 'region': 'NULL'}>) type='REPORTS_TO' properties={}> b=<Node element_id='4:365c6d96-c430-481b-844d-f152aaaf564a:1103' labels=frozenset({'Employee'}) properties={'country': 'UK', 'lastName': 'Dodsworth', 'hireDate': '1994-11-15 00:00:00.000', 'extension': '452', 'address': '7 Houndstooth Rd.', 'notes': 'Anne has a BA degree in English from St. Lawrence College.  She is fluent in French and German.', 'city': 'London', 'photoPath': 'http://accweb/emmployees/davolio.bmp', 'postalCode': 'WG2 7LT', 'homePhone': '(71) 555-4444', 'employeeID': '9', 'title': 'Sales Representative', 'titleOfCourtesy': 'Ms.', 'birthDate': '1966-01-27 00:00:00.000', 'firstName': 'Anne', 'region': 'NULL'}>>, <Record a=<Node element_id='4:365c6d96-c430-481b-844d-f152aaaf564a:1100' labels=frozenset({'Employee'}) properties={'country': 'UK', 'lastName': 'Suyama', 'hireDate': '1993-10-17 00:00:00.000', 'extension': '428', 'address': 'Coventry House Miner Rd.', 'notes': 'Michael is a graduate of Sussex University (MA, economics, 1983) and the University of California at Los Angeles (MBA, marketing, 1986).  He has also taken the courses \"Multi-Cultural Selling\" and \"Time Management for the Sales Professional.\"  He is fluent', 'city': 'London', 'photoPath': 'http://accweb/emmployees/davolio.bmp', 'postalCode': 'EC2 7JR', 'homePhone': '(71) 555-7773', 'employeeID': '6', 'title': 'Sales Representative', 'titleOfCourtesy': 'Mr.', 'birthDate': '1963-07-02 00:00:00.000', 'firstName': 'Michael', 'region': 'NULL'}> r=<Relationship element_id='5:365c6d96-c430-481b-844d-f152aaaf564a:6919787424524534859' nodes=(<Node element_id='4:365c6d96-c430-481b-844d-f152aaaf564a:1100' labels=frozenset({'Employee'}) properties={'country': 'UK', 'lastName': 'Suyama', 'hireDate': '1993-10-17 00:00:00.000', 'extension': '428', 'address': 'Coventry House Miner Rd.', 'notes': 'Michael is a graduate of Sussex University (MA, economics, 1983) and the University of California at Los Angeles (MBA, marketing, 1986).  He has also taken the courses \"Multi-Cultural Selling\" and \"Time Management for the Sales Professional.\"  He is fluent', 'city': 'London', 'photoPath': 'http://accweb/emmployees/davolio.bmp', 'postalCode': 'EC2 7JR', 'homePhone': '(71) 555-7773', 'employeeID': '6', 'title': 'Sales Representative', 'titleOfCourtesy': 'Mr.', 'birthDate': '1963-07-02 00:00:00.000', 'firstName': 'Michael', 'region': 'NULL'}>, <Node element_id='4:365c6d96-c430-481b-844d-f152aaaf564a:1099' labels=frozenset({'Employee'}) properties={'country': 'UK', 'lastName': 'Buchanan', 'hireDate': '1993-10-17 00:00:00.000', 'extension': '3453', 'address': '14 Garrett Hill', 'notes': 'Steven Buchanan graduated from St. Andrews University, Scotland, with a BSC degree in 1976.  Upon joining the company as a sales representative in 1992, he spent 6 months in an orientation program at the Seattle office and then returned to his permanent po', 'city': 'London', 'photoPath': 'http://accweb/emmployees/buchanan.bmp', 'postalCode': 'SW1 8JR', 'homePhone': '(71) 555-4848', 'employeeID': '5', 'title': 'Sales Manager', 'titleOfCourtesy': 'Mr.', 'birthDate': '1955-03-04 00:00:00.000', 'firstName': 'Steven', 'region': 'NULL'}>) type='REPORTS_TO' properties={}> b=<Node element_id='4:365c6d96-c430-481b-844d-f152aaaf564a:1099' labels=frozenset({'Employee'}) properties={'country': 'UK', 'lastName': 'Buchanan', 'hireDate': '1993-10-17 00:00:00.000', 'extension': '3453', 'address': '14 Garrett Hill', 'notes': 'Steven Buchanan graduated from St. Andrews University, Scotland, with a BSC degree in 1976.  Upon joining the company as a sales representative in 1992, he spent 6 months in an orientation program at the Seattle office and then returned to his permanent po', 'city': 'London', 'photoPath': 'http://accweb/emmployees/buchanan.bmp', 'postalCode': 'SW1 8JR', 'homePhone': '(71) 555-4848', 'employeeID': '5', 'title': 'Sales Manager', 'titleOfCourtesy': 'Mr.', 'birthDate': '1955-03-04 00:00:00.000', 'firstName': 'Steven', 'region': 'NULL'}>>, <Record a=<Node element_id='4:365c6d96-c430-481b-844d-f152aaaf564a:1101' labels=frozenset({'Employee'}) properties={'country': 'UK', 'lastName': 'King', 'hireDate': '1994-01-02 00:00:00.000', 'extension': '465', 'address': 'Edgeham Hollow Winchester Way', 'notes': 'Robert King served in the Peace Corps and traveled extensively before completing his degree in English at the University of Michigan in 1992, the year he joined the company.  After completing a course entitled \"Selling in Europe,\" he was transferred to the', 'city': 'London', 'photoPath': 'http://accweb/emmployees/davolio.bmp', 'postalCode': 'RG1 9SP', 'homePhone': '(71) 555-5598', 'employeeID': '7', 'title': 'Sales Representative', 'titleOfCourtesy': 'Mr.', 'birthDate': '1960-05-29 00:00:00.000', 'firstName': 'Robert', 'region': 'NULL'}> r=<Relationship element_id='5:365c6d96-c430-481b-844d-f152aaaf564a:6922039224338220107' nodes=(<Node element_id='4:365c6d96-c430-481b-844d-f152aaaf564a:1101' labels=frozenset({'Employee'}) properties={'country': 'UK', 'lastName': 'King', 'hireDate': '1994-01-02 00:00:00.000', 'extension': '465', 'address': 'Edgeham Hollow Winchester Way', 'notes': 'Robert King served in the Peace Corps and traveled extensively before completing his degree in English at the University of Michigan in 1992, the year he joined the company.  After completing a course entitled \"Selling in Europe,\" he was transferred to the', 'city': 'London', 'photoPath': 'http://accweb/emmployees/davolio.bmp', 'postalCode': 'RG1 9SP', 'homePhone': '(71) 555-5598', 'employeeID': '7', 'title': 'Sales Representative', 'titleOfCourtesy': 'Mr.', 'birthDate': '1960-05-29 00:00:00.000', 'firstName': 'Robert', 'region': 'NULL'}>, <Node element_id='4:365c6d96-c430-481b-844d-f152aaaf564a:1099' labels=frozenset({'Employee'}) properties={'country': 'UK', 'lastName': 'Buchanan', 'hireDate': '1993-10-17 00:00:00.000', 'extension': '3453', 'address': '14 Garrett Hill', 'notes': 'Steven Buchanan graduated from St. Andrews University, Scotland, with a BSC degree in 1976.  Upon joining the company as a sales representative in 1992, he spent 6 months in an orientation program at the Seattle office and then returned to his permanent po', 'city': 'London', 'photoPath': 'http://accweb/emmployees/buchanan.bmp', 'postalCode': 'SW1 8JR', 'homePhone': '(71) 555-4848', 'employeeID': '5', 'title': 'Sales Manager', 'titleOfCourtesy': 'Mr.', 'birthDate': '1955-03-04 00:00:00.000', 'firstName': 'Steven', 'region': 'NULL'}>) type='REPORTS_TO' properties={}> b=<Node element_id='4:365c6d96-c430-481b-844d-f152aaaf564a:1099' labels=frozenset({'Employee'}) properties={'country': 'UK', 'lastName': 'Buchanan', 'hireDate': '1993-10-17 00:00:00.000', 'extension': '3453', 'address': '14 Garrett Hill', 'notes': 'Steven Buchanan graduated from St. Andrews University, Scotland, with a BSC degree in 1976.  Upon joining the company as a sales representative in 1992, he spent 6 months in an orientation program at the Seattle office and then returned to his permanent po', 'city': 'London', 'photoPath': 'http://accweb/emmployees/buchanan.bmp', 'postalCode': 'SW1 8JR', 'homePhone': '(71) 555-4848', 'employeeID': '5', 'title': 'Sales Manager', 'titleOfCourtesy': 'Mr.', 'birthDate': '1955-03-04 00:00:00.000', 'firstName': 'Steven', 'region': 'NULL'}>>, <Record a=<Node element_id='4:365c6d96-c430-481b-844d-f152aaaf564a:1102' labels=frozenset({'Employee'}) properties={'country': 'USA', 'lastName': 'Callahan', 'hireDate': '1994-03-05 00:00:00.000', 'extension': '2344', 'address': '4726 - 11th Ave. N.E.', 'notes': 'Laura received a BA in psychology from the University of Washington.  She has also completed a course in business French.  She reads and writes French.', 'city': 'Seattle', 'photoPath': 'http://accweb/emmployees/davolio.bmp', 'postalCode': '98105', 'homePhone': '(206) 555-1189', 'employeeID': '8', 'title': 'Inside Sales Coordinator', 'titleOfCourtesy': 'Ms.', 'birthDate': '1958-01-09 00:00:00.000', 'firstName': 'Laura', 'region': 'WA'}> r=<Relationship element_id='5:365c6d96-c430-481b-844d-f152aaaf564a:1152928101676614734' nodes=(<Node element_id='4:365c6d96-c430-481b-844d-f152aaaf564a:1102' labels=frozenset({'Employee'}) properties={'country': 'USA', 'lastName': 'Callahan', 'hireDate': '1994-03-05 00:00:00.000', 'extension': '2344', 'address': '4726 - 11th Ave. N.E.', 'notes': 'Laura received a BA in psychology from the University of Washington.  She has also completed a course in business French.  She reads and writes French.', 'city': 'Seattle', 'photoPath': 'http://accweb/emmployees/davolio.bmp', 'postalCode': '98105', 'homePhone': '(206) 555-1189', 'employeeID': '8', 'title': 'Inside Sales Coordinator', 'titleOfCourtesy': 'Ms.', 'birthDate': '1958-01-09 00:00:00.000', 'firstName': 'Laura', 'region': 'WA'}>, <Node element_id='4:365c6d96-c430-481b-844d-f152aaaf564a:1096' labels=frozenset({'Employee'}) properties={'country': 'USA', 'lastName': 'Fuller', 'hireDate': '1992-08-14 00:00:00.000', 'extension': '3457', 'address': '908 W. Capital Way', 'notes': 'Andrew received his BTS commercial in 1974 and a Ph.D. in international marketing from the University of Dallas in 1981.  He is fluent in French and Italian and reads German.  He joined the company as a sales representative, was promoted to sales manager i', 'city': 'Tacoma', 'photoPath': 'http://accweb/emmployees/fuller.bmp', 'postalCode': '98401', 'homePhone': '(206) 555-9482', 'employeeID': '2', 'title': 'Vice President, Sales', 'titleOfCourtesy': 'Dr.', 'birthDate': '1952-02-19 00:00:00.000', 'firstName': 'Andrew', 'region': 'WA'}>) type='REPORTS_TO' properties={}> b=<Node element_id='4:365c6d96-c430-481b-844d-f152aaaf564a:1096' labels=frozenset({'Employee'}) properties={'country': 'USA', 'lastName': 'Fuller', 'hireDate': '1992-08-14 00:00:00.000', 'extension': '3457', 'address': '908 W. Capital Way', 'notes': 'Andrew received his BTS commercial in 1974 and a Ph.D. in international marketing from the University of Dallas in 1981.  He is fluent in French and Italian and reads German.  He joined the company as a sales representative, was promoted to sales manager i', 'city': 'Tacoma', 'photoPath': 'http://accweb/emmployees/fuller.bmp', 'postalCode': '98401', 'homePhone': '(206) 555-9482', 'employeeID': '2', 'title': 'Vice President, Sales', 'titleOfCourtesy': 'Dr.', 'birthDate': '1952-02-19 00:00:00.000', 'firstName': 'Andrew', 'region': 'WA'}>>, <Record a=<Node element_id='4:365c6d96-c430-481b-844d-f152aaaf564a:1103' labels=frozenset({'Employee'}) properties={'country': 'UK', 'lastName': 'Dodsworth', 'hireDate': '1994-11-15 00:00:00.000', 'extension': '452', 'address': '7 Houndstooth Rd.', 'notes': 'Anne has a BA degree in English from St. Lawrence College.  She is fluent in French and German.', 'city': 'London', 'photoPath': 'http://accweb/emmployees/davolio.bmp', 'postalCode': 'WG2 7LT', 'homePhone': '(71) 555-4444', 'employeeID': '9', 'title': 'Sales Representative', 'titleOfCourtesy': 'Ms.', 'birthDate': '1966-01-27 00:00:00.000', 'firstName': 'Anne', 'region': 'NULL'}> r=<Relationship element_id='5:365c6d96-c430-481b-844d-f152aaaf564a:6924291024151905355' nodes=(<Node element_id='4:365c6d96-c430-481b-844d-f152aaaf564a:1103' labels=frozenset({'Employee'}) properties={'country': 'UK', 'lastName': 'Dodsworth', 'hireDate': '1994-11-15 00:00:00.000', 'extension': '452', 'address': '7 Houndstooth Rd.', 'notes': 'Anne has a BA degree in English from St. Lawrence College.  She is fluent in French and German.', 'city': 'London', 'photoPath': 'http://accweb/emmployees/davolio.bmp', 'postalCode': 'WG2 7LT', 'homePhone': '(71) 555-4444', 'employeeID': '9', 'title': 'Sales Representative', 'titleOfCourtesy': 'Ms.', 'birthDate': '1966-01-27 00:00:00.000', 'firstName': 'Anne', 'region': 'NULL'}>, <Node element_id='4:365c6d96-c430-481b-844d-f152aaaf564a:1099' labels=frozenset({'Employee'}) properties={'country': 'UK', 'lastName': 'Buchanan', 'hireDate': '1993-10-17 00:00:00.000', 'extension': '3453', 'address': '14 Garrett Hill', 'notes': 'Steven Buchanan graduated from St. Andrews University, Scotland, with a BSC degree in 1976.  Upon joining the company as a sales representative in 1992, he spent 6 months in an orientation program at the Seattle office and then returned to his permanent po', 'city': 'London', 'photoPath': 'http://accweb/emmployees/buchanan.bmp', 'postalCode': 'SW1 8JR', 'homePhone': '(71) 555-4848', 'employeeID': '5', 'title': 'Sales Manager', 'titleOfCourtesy': 'Mr.', 'birthDate': '1955-03-04 00:00:00.000', 'firstName': 'Steven', 'region': 'NULL'}>) type='REPORTS_TO' properties={}> b=<Node element_id='4:365c6d96-c430-481b-844d-f152aaaf564a:1099' labels=frozenset({'Employee'}) properties={'country': 'UK', 'lastName': 'Buchanan', 'hireDate': '1993-10-17 00:00:00.000', 'extension': '3453', 'address': '14 Garrett Hill', 'notes': 'Steven Buchanan graduated from St. Andrews University, Scotland, with a BSC degree in 1976.  Upon joining the company as a sales representative in 1992, he spent 6 months in an orientation program at the Seattle office and then returned to his permanent po', 'city': 'London', 'photoPath': 'http://accweb/emmployees/buchanan.bmp', 'postalCode': 'SW1 8JR', 'homePhone': '(71) 555-4848', 'employeeID': '5', 'title': 'Sales Manager', 'titleOfCourtesy': 'Mr.', 'birthDate': '1955-03-04 00:00:00.000', 'firstName': 'Steven', 'region': 'NULL'}>>]\n"
     ]
    }
   ],
   "source": [
    "query = \"MATCH(a:Employee)-[r:REPORTS_TO]-(b) RETURN a, r, b\"\n",
    "results = neo_conn.query(query)\n",
    "print(results)\n"
   ]
  },
  {
   "cell_type": "code",
   "execution_count": 7,
   "metadata": {},
   "outputs": [
    {
     "name": "stdout",
     "output_type": "stream",
     "text": [
      "<class 'list'>\n"
     ]
    }
   ],
   "source": [
    "print(type(results))"
   ]
  },
  {
   "cell_type": "code",
   "execution_count": 10,
   "metadata": {},
   "outputs": [
    {
     "name": "stdout",
     "output_type": "stream",
     "text": [
      "{'a': {'address': '507 - 20th Ave. E. Apt. 2A',\n",
      "       'birthDate': '1948-12-08 00:00:00.000',\n",
      "       'city': 'Seattle',\n",
      "       'country': 'USA',\n",
      "       'employeeID': '1',\n",
      "       'extension': '5467',\n",
      "       'firstName': 'Nancy',\n",
      "       'hireDate': '1992-05-01 00:00:00.000',\n",
      "       'homePhone': '(206) 555-9857',\n",
      "       'lastName': 'Davolio',\n",
      "       'notes': 'Education includes a BA in psychology from Colorado State '\n",
      "                'University in 1970.  She also completed \"The Art of the Cold '\n",
      "                'Call.\"  Nancy is a member of Toastmasters International.',\n",
      "       'photoPath': 'http://accweb/emmployees/davolio.bmp',\n",
      "       'postalCode': '98122',\n",
      "       'region': 'WA',\n",
      "       'title': 'Sales Representative',\n",
      "       'titleOfCourtesy': 'Ms.'},\n",
      " 'b': {'address': '908 W. Capital Way',\n",
      "       'birthDate': '1952-02-19 00:00:00.000',\n",
      "       'city': 'Tacoma',\n",
      "       'country': 'USA',\n",
      "       'employeeID': '2',\n",
      "       'extension': '3457',\n",
      "       'firstName': 'Andrew',\n",
      "       'hireDate': '1992-08-14 00:00:00.000',\n",
      "       'homePhone': '(206) 555-9482',\n",
      "       'lastName': 'Fuller',\n",
      "       'notes': 'Andrew received his BTS commercial in 1974 and a Ph.D. in '\n",
      "                'international marketing from the University of Dallas in '\n",
      "                '1981.  He is fluent in French and Italian and reads German.  '\n",
      "                'He joined the company as a sales representative, was promoted '\n",
      "                'to sales manager i',\n",
      "       'photoPath': 'http://accweb/emmployees/fuller.bmp',\n",
      "       'postalCode': '98401',\n",
      "       'region': 'WA',\n",
      "       'title': 'Vice President, Sales',\n",
      "       'titleOfCourtesy': 'Dr.'},\n",
      " 'r': ({'address': '507 - 20th Ave. E. Apt. 2A',\n",
      "        'birthDate': '1948-12-08 00:00:00.000',\n",
      "        'city': 'Seattle',\n",
      "        'country': 'USA',\n",
      "        'employeeID': '1',\n",
      "        'extension': '5467',\n",
      "        'firstName': 'Nancy',\n",
      "        'hireDate': '1992-05-01 00:00:00.000',\n",
      "        'homePhone': '(206) 555-9857',\n",
      "        'lastName': 'Davolio',\n",
      "        'notes': 'Education includes a BA in psychology from Colorado State '\n",
      "                 'University in 1970.  She also completed \"The Art of the Cold '\n",
      "                 'Call.\"  Nancy is a member of Toastmasters International.',\n",
      "        'photoPath': 'http://accweb/emmployees/davolio.bmp',\n",
      "        'postalCode': '98122',\n",
      "        'region': 'WA',\n",
      "        'title': 'Sales Representative',\n",
      "        'titleOfCourtesy': 'Ms.'},\n",
      "       'REPORTS_TO',\n",
      "       {'address': '908 W. Capital Way',\n",
      "        'birthDate': '1952-02-19 00:00:00.000',\n",
      "        'city': 'Tacoma',\n",
      "        'country': 'USA',\n",
      "        'employeeID': '2',\n",
      "        'extension': '3457',\n",
      "        'firstName': 'Andrew',\n",
      "        'hireDate': '1992-08-14 00:00:00.000',\n",
      "        'homePhone': '(206) 555-9482',\n",
      "        'lastName': 'Fuller',\n",
      "        'notes': 'Andrew received his BTS commercial in 1974 and a Ph.D. in '\n",
      "                 'international marketing from the University of Dallas in '\n",
      "                 '1981.  He is fluent in French and Italian and reads German.  '\n",
      "                 'He joined the company as a sales representative, was '\n",
      "                 'promoted to sales manager i',\n",
      "        'photoPath': 'http://accweb/emmployees/fuller.bmp',\n",
      "        'postalCode': '98401',\n",
      "        'region': 'WA',\n",
      "        'title': 'Vice President, Sales',\n",
      "        'titleOfCourtesy': 'Dr.'})}\n"
     ]
    }
   ],
   "source": [
    "data_ls = [record.data() for record in results]\n",
    "pprint(data_ls[0])"
   ]
  },
  {
   "cell_type": "code",
   "execution_count": 12,
   "metadata": {},
   "outputs": [
    {
     "data": {
      "text/html": [
       "<div>\n",
       "<style scoped>\n",
       "    .dataframe tbody tr th:only-of-type {\n",
       "        vertical-align: middle;\n",
       "    }\n",
       "\n",
       "    .dataframe tbody tr th {\n",
       "        vertical-align: top;\n",
       "    }\n",
       "\n",
       "    .dataframe thead th {\n",
       "        text-align: right;\n",
       "    }\n",
       "</style>\n",
       "<table border=\"1\" class=\"dataframe\">\n",
       "  <thead>\n",
       "    <tr style=\"text-align: right;\">\n",
       "      <th></th>\n",
       "      <th>a</th>\n",
       "      <th>r</th>\n",
       "      <th>b</th>\n",
       "    </tr>\n",
       "  </thead>\n",
       "  <tbody>\n",
       "    <tr>\n",
       "      <th>0</th>\n",
       "      <td>{'country': 'USA', 'lastName': 'Davolio', 'hir...</td>\n",
       "      <td>({'country': 'USA', 'lastName': 'Davolio', 'hi...</td>\n",
       "      <td>{'country': 'USA', 'lastName': 'Fuller', 'hire...</td>\n",
       "    </tr>\n",
       "    <tr>\n",
       "      <th>1</th>\n",
       "      <td>{'country': 'USA', 'lastName': 'Fuller', 'hire...</td>\n",
       "      <td>({'country': 'USA', 'lastName': 'Davolio', 'hi...</td>\n",
       "      <td>{'country': 'USA', 'lastName': 'Davolio', 'hir...</td>\n",
       "    </tr>\n",
       "    <tr>\n",
       "      <th>2</th>\n",
       "      <td>{'country': 'USA', 'lastName': 'Fuller', 'hire...</td>\n",
       "      <td>({'country': 'USA', 'lastName': 'Leverling', '...</td>\n",
       "      <td>{'country': 'USA', 'lastName': 'Leverling', 'h...</td>\n",
       "    </tr>\n",
       "    <tr>\n",
       "      <th>3</th>\n",
       "      <td>{'country': 'USA', 'lastName': 'Fuller', 'hire...</td>\n",
       "      <td>({'country': 'USA', 'lastName': 'Peacock', 'hi...</td>\n",
       "      <td>{'country': 'USA', 'lastName': 'Peacock', 'hir...</td>\n",
       "    </tr>\n",
       "    <tr>\n",
       "      <th>4</th>\n",
       "      <td>{'country': 'USA', 'lastName': 'Fuller', 'hire...</td>\n",
       "      <td>({'country': 'UK', 'lastName': 'Buchanan', 'hi...</td>\n",
       "      <td>{'country': 'UK', 'lastName': 'Buchanan', 'hir...</td>\n",
       "    </tr>\n",
       "  </tbody>\n",
       "</table>\n",
       "</div>"
      ],
      "text/plain": [
       "                                                   a  \\\n",
       "0  {'country': 'USA', 'lastName': 'Davolio', 'hir...   \n",
       "1  {'country': 'USA', 'lastName': 'Fuller', 'hire...   \n",
       "2  {'country': 'USA', 'lastName': 'Fuller', 'hire...   \n",
       "3  {'country': 'USA', 'lastName': 'Fuller', 'hire...   \n",
       "4  {'country': 'USA', 'lastName': 'Fuller', 'hire...   \n",
       "\n",
       "                                                   r  \\\n",
       "0  ({'country': 'USA', 'lastName': 'Davolio', 'hi...   \n",
       "1  ({'country': 'USA', 'lastName': 'Davolio', 'hi...   \n",
       "2  ({'country': 'USA', 'lastName': 'Leverling', '...   \n",
       "3  ({'country': 'USA', 'lastName': 'Peacock', 'hi...   \n",
       "4  ({'country': 'UK', 'lastName': 'Buchanan', 'hi...   \n",
       "\n",
       "                                                   b  \n",
       "0  {'country': 'USA', 'lastName': 'Fuller', 'hire...  \n",
       "1  {'country': 'USA', 'lastName': 'Davolio', 'hir...  \n",
       "2  {'country': 'USA', 'lastName': 'Leverling', 'h...  \n",
       "3  {'country': 'USA', 'lastName': 'Peacock', 'hir...  \n",
       "4  {'country': 'UK', 'lastName': 'Buchanan', 'hir...  "
      ]
     },
     "execution_count": 12,
     "metadata": {},
     "output_type": "execute_result"
    }
   ],
   "source": [
    "df = pd.DataFrame(data_ls)\n",
    "df.head()"
   ]
  },
  {
   "cell_type": "code",
   "execution_count": 13,
   "metadata": {},
   "outputs": [
    {
     "name": "stderr",
     "output_type": "stream",
     "text": [
      "Received notification from DBMS server: {severity: WARNING} {code: Neo.ClientNotification.Statement.UnknownRelationshipTypeWarning} {category: UNRECOGNIZED} {title: The provided relationship type is not in the database.} {description: One of the relationship types in your query is not available in the database, make sure you didn't misspell it or that the label is available when you run this statement in your application (the missing relationship type is: PARENT)} {position: line: 1, column: 45, offset: 44} for query: 'MATCH (p:Product)-[:PART_OF]->(:Category)-[:PARENT*0..]->         (:Category {categoryName:$category})         RETURN p.productName as product'\n"
     ]
    },
    {
     "name": "stdout",
     "output_type": "stream",
     "text": [
      "[{'product': 'Chai'},\n",
      " {'product': 'Chang'},\n",
      " {'product': 'Guaraná Fantástica'},\n",
      " {'product': 'Sasquatch Ale'},\n",
      " {'product': 'Steeleye Stout'},\n",
      " {'product': 'Côte de Blaye'},\n",
      " {'product': 'Chartreuse verte'},\n",
      " {'product': 'Ipoh Coffee'},\n",
      " {'product': 'Laughing Lumberjack Lager'},\n",
      " {'product': 'Outback Lager'},\n",
      " {'product': 'Rhönbräu Klosterbier'},\n",
      " {'product': 'Lakkalikööri'}]\n"
     ]
    }
   ],
   "source": [
    "query = \"MATCH (p:Product)-[:PART_OF]->(:Category)-[:PARENT*0..]-> \\\n",
    "        (:Category {categoryName:$category}) \\\n",
    "        RETURN p.productName as product\"\n",
    "\n",
    "results = neo_conn.query(query, parameters={'category':'Beverages'})\n",
    "data_ls = [record.data() for record in results]\n",
    "pprint(data_ls)"
   ]
  },
  {
   "cell_type": "code",
   "execution_count": null,
   "metadata": {},
   "outputs": [],
   "source": []
  }
 ],
 "metadata": {
  "kernelspec": {
   "display_name": "Python 3",
   "language": "python",
   "name": "python3"
  },
  "language_info": {
   "codemirror_mode": {
    "name": "ipython",
    "version": 3
   },
   "file_extension": ".py",
   "mimetype": "text/x-python",
   "name": "python",
   "nbconvert_exporter": "python",
   "pygments_lexer": "ipython3",
   "version": "3.12.1"
  }
 },
 "nbformat": 4,
 "nbformat_minor": 2
}
