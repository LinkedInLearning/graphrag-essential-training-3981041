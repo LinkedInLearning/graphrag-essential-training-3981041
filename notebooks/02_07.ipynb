{
 "cells": [
  {
   "cell_type": "markdown",
   "id": "adf87830-ecf5-4768-a21c-c1746a271d76",
   "metadata": {},
   "source": [
    "# 02_07: Connecting Python to Neo4j"
   ]
  },
  {
   "cell_type": "code",
   "execution_count": null,
   "id": "fddc641c-6eb1-4369-b58e-37559f4bf9b4",
   "metadata": {},
   "outputs": [],
   "source": [
    "import os\n",
    "from dotenv import load_dotenv\n",
    "\n",
    "from neo4j import GraphDatabase"
   ]
  },
  {
   "cell_type": "code",
   "execution_count": null,
   "id": "ca74e5ef-aab3-4572-b182-473312238471",
   "metadata": {},
   "outputs": [],
   "source": [
    "load_dotenv(dotenv_path='../.env')\n",
    "\n",
    "URI = os.getenv(\"NEO4J_URI\")\n",
    "USER = os.getenv(\"NEO4J_USER\")\n",
    "PWD = os.getenv(\"NEO4J_PWD\")"
   ]
  },
  {
   "cell_type": "markdown",
   "id": "fd80693c",
   "metadata": {},
   "source": [
    "## A note about this next code block\n",
    "\n",
    "There are many ways to connect to Neo4j from Python.  This here is a little helper class that manages the connection for you and includes some basic error handling.  We will use this class in pretty much every notebook that needs to connect to Neo4j in this course, but this is what it looks like.  For the following videos you can find this class in `/utils/neo4j_conn.py`."
   ]
  },
  {
   "cell_type": "code",
   "execution_count": null,
   "id": "31e3b79b",
   "metadata": {},
   "outputs": [],
   "source": [
    "class Neo4jConnection:\n",
    "\n",
    "    def __init__(self, uri, user, pwd):\n",
    "        self.__uri = uri\n",
    "        self.__user = user\n",
    "        self.__pwd = pwd\n",
    "        self.__driver = None\n",
    "        try:\n",
    "            self.__driver = GraphDatabase.driver(self.__uri, auth=(self.__user, self.__pwd))\n",
    "        except Exception as e:\n",
    "            print(\"Failed to create the driver:\", e)\n",
    "\n",
    "    def close(self):\n",
    "        if self.__driver is not None:\n",
    "            self.__driver.close()\n",
    "\n",
    "    def query(self, query, parameters=None, db=None):\n",
    "        assert self.__driver is not None, \"Driver not initialized!\"\n",
    "        session = None\n",
    "        response = None\n",
    "        try:\n",
    "            session = self.__driver.session(database=db) if db is not None else self.__driver.session()\n",
    "            response = list(session.run(query, parameters))\n",
    "        except Exception as e:\n",
    "            print(\"Query failed:\", e)\n",
    "        finally:\n",
    "            if session is not None:\n",
    "                session.close()\n",
    "        return response"
   ]
  },
  {
   "cell_type": "code",
   "execution_count": null,
   "id": "902bf3ad",
   "metadata": {},
   "outputs": [],
   "source": [
    "neo_conn = Neo4jConnection(uri=URI, user=USER, pwd=PWD)"
   ]
  },
  {
   "cell_type": "code",
   "execution_count": null,
   "id": "37d404e6",
   "metadata": {},
   "outputs": [],
   "source": [
    "neo_conn.query('MATCH (n) RETURN COUNT(n) AS total')"
   ]
  },
  {
   "cell_type": "code",
   "execution_count": null,
   "id": "277a067a",
   "metadata": {},
   "outputs": [],
   "source": [
    "neo_conn.query('MATCH(a:Employee)-[r:REPORTS_TO]-(b) RETURN a, r, b')"
   ]
  },
  {
   "cell_type": "code",
   "execution_count": null,
   "id": "f4f102bf",
   "metadata": {},
   "outputs": [],
   "source": []
  }
 ],
 "metadata": {
  "kernelspec": {
   "display_name": "Python 3",
   "language": "python",
   "name": "python3"
  },
  "language_info": {
   "codemirror_mode": {
    "name": "ipython",
    "version": 3
   },
   "file_extension": ".py",
   "mimetype": "text/x-python",
   "name": "python",
   "nbconvert_exporter": "python",
   "pygments_lexer": "ipython3",
   "version": "3.12.1"
  }
 },
 "nbformat": 4,
 "nbformat_minor": 5
}
