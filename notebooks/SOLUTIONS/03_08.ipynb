{
 "cells": [
  {
   "cell_type": "markdown",
   "id": "33c891b8",
   "metadata": {},
   "source": [
    "# 03_08: SOLUTION - Query Your Knowledge Graph with Cypher"
   ]
  },
  {
   "cell_type": "code",
   "execution_count": null,
   "id": "65caa3dd",
   "metadata": {},
   "outputs": [],
   "source": [
    "import os\n",
    "from dotenv import load_dotenv\n",
    "from pprint import pprint\n",
    "\n",
    "from langchain.chat_models import ChatOpenAI\n",
    "from langchain.prompts import ChatPromptTemplate, SystemMessagePromptTemplate, HumanMessagePromptTemplate\n",
    "\n",
    "from langchain_core.documents import Document\n",
    "from langchain_experimental.graph_transformers import LLMGraphTransformer\n",
    "from langchain_neo4j import Neo4jGraph\n",
    "from langchain_openai import ChatOpenAI"
   ]
  },
  {
   "cell_type": "code",
   "execution_count": null,
   "id": "1af7ba32",
   "metadata": {},
   "outputs": [],
   "source": [
    "load_dotenv(dotenv_path='../../.env')\n",
    "\n",
    "URI = os.getenv(\"NEO4J_URI\")\n",
    "USER = os.getenv(\"NEO4J_USER\")\n",
    "PWD = os.getenv(\"NEO4J_PWD\")\n",
    "OPENAI_API_KEY = os.getenv(\"OPENAI_API_KEY\")\n",
    "\n",
    "graph = Neo4jGraph(url=URI, username=USER, password=PWD)"
   ]
  },
  {
   "cell_type": "code",
   "execution_count": null,
   "id": "46c58aa2",
   "metadata": {},
   "outputs": [],
   "source": [
    "from langchain.document_loaders import WikipediaLoader\n",
    "\n",
    "text = WikipediaLoader(query=\"skiing\").load()"
   ]
  },
  {
   "cell_type": "code",
   "execution_count": null,
   "id": "cc1c1106",
   "metadata": {},
   "outputs": [],
   "source": [
    "text[0:100]"
   ]
  },
  {
   "cell_type": "code",
   "execution_count": null,
   "id": "db7ff138",
   "metadata": {},
   "outputs": [],
   "source": [
    "len(text)"
   ]
  },
  {
   "cell_type": "code",
   "execution_count": null,
   "id": "9c345d65",
   "metadata": {},
   "outputs": [],
   "source": [
    "extracted_info = [\n",
    "    {\n",
    "        \"title\": doc.metadata.get(\"title\", \"\"),\n",
    "        \"summary\": doc.metadata.get(\"summary\", \"\"),\n",
    "        \"snippet\": doc.page_content[:100]\n",
    "    }\n",
    "    for doc in text\n",
    "]\n",
    "\n",
    "pprint(extracted_info)\n"
   ]
  },
  {
   "cell_type": "code",
   "execution_count": null,
   "id": "592a9cc9",
   "metadata": {},
   "outputs": [],
   "source": [
    "llm = ChatOpenAI(openai_api_key=OPENAI_API_KEY, temperature=0, model_name=\"gpt-4o\")\n",
    "\n",
    "llm_transformer = LLMGraphTransformer(llm=llm)\n",
    "\n",
    "graph_documents = llm_transformer.convert_to_graph_documents(text)\n",
    "print(f\"Nodes:{graph_documents[0].nodes}\")\n",
    "print(f\"Relationships:{graph_documents[0].relationships}\")"
   ]
  },
  {
   "cell_type": "code",
   "execution_count": null,
   "id": "0c135b29",
   "metadata": {},
   "outputs": [],
   "source": [
    "graph.add_graph_documents(\n",
    "    graph_documents,\n",
    "    include_source=True\n",
    ")"
   ]
  }
 ],
 "metadata": {
  "kernelspec": {
   "display_name": "Python 3",
   "language": "python",
   "name": "python3"
  },
  "language_info": {
   "codemirror_mode": {
    "name": "ipython",
    "version": 3
   },
   "file_extension": ".py",
   "mimetype": "text/x-python",
   "name": "python",
   "nbconvert_exporter": "python",
   "pygments_lexer": "ipython3",
   "version": "3.12.1"
  }
 },
 "nbformat": 4,
 "nbformat_minor": 5
}
